{
 "cells": [
  {
   "cell_type": "code",
   "execution_count": 1,
   "id": "1764471d-679d-4106-9c22-a8f42b158ac6",
   "metadata": {},
   "outputs": [],
   "source": [
    "import os # Miscellaneous operating system interfaces"
   ]
  },
  {
   "cell_type": "code",
   "execution_count": 2,
   "id": "93afbdc5-4719-4ff6-92e1-c94ccdbf5a68",
   "metadata": {},
   "outputs": [],
   "source": [
    "import pandas as pd"
   ]
  },
  {
   "cell_type": "code",
   "execution_count": 3,
   "id": "10f2a29d-c110-4167-8c64-79acdd7c4b96",
   "metadata": {},
   "outputs": [],
   "source": [
    "import numpy as np"
   ]
  },
  {
   "cell_type": "code",
   "execution_count": 4,
   "id": "1588cc24-94e6-4bc3-b6bc-331afe43e8a5",
   "metadata": {},
   "outputs": [],
   "source": [
    "import datetime as dt"
   ]
  },
  {
   "cell_type": "code",
   "execution_count": 5,
   "id": "f6b7c26d-a4f2-4ca1-9cf2-d7d3e9ada170",
   "metadata": {},
   "outputs": [
    {
     "name": "stdout",
     "output_type": "stream",
     "text": [
      "C:\\Users\\magse\\Dropbox\\Pruebas\n"
     ]
    }
   ],
   "source": [
    "%cd \"C:\\Users\\magse\\Dropbox\\Pruebas\"\n"
   ]
  },
  {
   "cell_type": "code",
   "execution_count": 6,
   "id": "ec77ed53-8ced-4ccb-90e5-8efe587a5412",
   "metadata": {},
   "outputs": [],
   "source": [
    "cwd = os.getcwd()\n"
   ]
  },
  {
   "cell_type": "code",
   "execution_count": 7,
   "id": "0e61e162-5e8b-4128-9368-df3e5e90b475",
   "metadata": {},
   "outputs": [
    {
     "data": {
      "text/plain": [
       "'C:\\\\Users\\\\magse\\\\Dropbox\\\\Pruebas'"
      ]
     },
     "execution_count": 7,
     "metadata": {},
     "output_type": "execute_result"
    }
   ],
   "source": [
    "cwd"
   ]
  },
  {
   "cell_type": "code",
   "execution_count": 8,
   "id": "f2666550-bb76-4451-838b-f84b4503f4b5",
   "metadata": {},
   "outputs": [],
   "source": [
    "file = \"1.1.1.TCM_Serie histórica IQY.xlsx\" # Creo una variable con el nombre del archivo"
   ]
  },
  {
   "cell_type": "code",
   "execution_count": 9,
   "id": "bbb07523-3a91-4671-8fa2-279524681b57",
   "metadata": {},
   "outputs": [
    {
     "data": {
      "text/plain": [
       "'1.1.1.TCM_Serie histórica IQY.xlsx'"
      ]
     },
     "execution_count": 9,
     "metadata": {},
     "output_type": "execute_result"
    }
   ],
   "source": [
    "file"
   ]
  },
  {
   "cell_type": "code",
   "execution_count": 10,
   "id": "87a6f12b-1248-4d61-b4fa-38fdb0e9b11d",
   "metadata": {},
   "outputs": [],
   "source": [
    "#pip install xlrd==1.2.0 #la ultima versión de xlrd tiene problemas importando xlsx, hay que intalar esta versión previa."
   ]
  },
  {
   "cell_type": "code",
   "execution_count": 11,
   "id": "f7f8e9dd-0ddf-4642-96d3-ea9ea0d21519",
   "metadata": {},
   "outputs": [],
   "source": [
    "serie = pd.read_excel(file, header=7, nrows=10514, usecols=\"A,B\")  "
   ]
  },
  {
   "cell_type": "code",
   "execution_count": 12,
   "id": "eb63a105-2acb-4c4b-b9f9-90971b73b5c6",
   "metadata": {},
   "outputs": [
    {
     "data": {
      "text/html": [
       "<div>\n",
       "<style scoped>\n",
       "    .dataframe tbody tr th:only-of-type {\n",
       "        vertical-align: middle;\n",
       "    }\n",
       "\n",
       "    .dataframe tbody tr th {\n",
       "        vertical-align: top;\n",
       "    }\n",
       "\n",
       "    .dataframe thead th {\n",
       "        text-align: right;\n",
       "    }\n",
       "</style>\n",
       "<table border=\"1\" class=\"dataframe\">\n",
       "  <thead>\n",
       "    <tr style=\"text-align: right;\">\n",
       "      <th></th>\n",
       "      <th>Fecha (dd/mm/aaaa)</th>\n",
       "      <th>Tasa de cambio representativa del mercado (TRM)</th>\n",
       "    </tr>\n",
       "  </thead>\n",
       "  <tbody>\n",
       "    <tr>\n",
       "      <th>0</th>\n",
       "      <td>1991-11-27</td>\n",
       "      <td>693.32</td>\n",
       "    </tr>\n",
       "    <tr>\n",
       "      <th>1</th>\n",
       "      <td>1991-11-28</td>\n",
       "      <td>693.99</td>\n",
       "    </tr>\n",
       "    <tr>\n",
       "      <th>2</th>\n",
       "      <td>1991-11-29</td>\n",
       "      <td>694.70</td>\n",
       "    </tr>\n",
       "    <tr>\n",
       "      <th>3</th>\n",
       "      <td>1991-11-30</td>\n",
       "      <td>694.70</td>\n",
       "    </tr>\n",
       "    <tr>\n",
       "      <th>4</th>\n",
       "      <td>1991-12-01</td>\n",
       "      <td>643.42</td>\n",
       "    </tr>\n",
       "    <tr>\n",
       "      <th>...</th>\n",
       "      <td>...</td>\n",
       "      <td>...</td>\n",
       "    </tr>\n",
       "    <tr>\n",
       "      <th>10509</th>\n",
       "      <td>2020-09-04</td>\n",
       "      <td>3653.23</td>\n",
       "    </tr>\n",
       "    <tr>\n",
       "      <th>10510</th>\n",
       "      <td>2020-09-05</td>\n",
       "      <td>3702.62</td>\n",
       "    </tr>\n",
       "    <tr>\n",
       "      <th>10511</th>\n",
       "      <td>2020-09-06</td>\n",
       "      <td>3702.62</td>\n",
       "    </tr>\n",
       "    <tr>\n",
       "      <th>10512</th>\n",
       "      <td>2020-09-07</td>\n",
       "      <td>3702.62</td>\n",
       "    </tr>\n",
       "    <tr>\n",
       "      <th>10513</th>\n",
       "      <td>2020-09-08</td>\n",
       "      <td>3702.62</td>\n",
       "    </tr>\n",
       "  </tbody>\n",
       "</table>\n",
       "<p>10514 rows × 2 columns</p>\n",
       "</div>"
      ],
      "text/plain": [
       "      Fecha (dd/mm/aaaa)  Tasa de cambio representativa del mercado (TRM)\n",
       "0             1991-11-27                                           693.32\n",
       "1             1991-11-28                                           693.99\n",
       "2             1991-11-29                                           694.70\n",
       "3             1991-11-30                                           694.70\n",
       "4             1991-12-01                                           643.42\n",
       "...                  ...                                              ...\n",
       "10509         2020-09-04                                          3653.23\n",
       "10510         2020-09-05                                          3702.62\n",
       "10511         2020-09-06                                          3702.62\n",
       "10512         2020-09-07                                          3702.62\n",
       "10513         2020-09-08                                          3702.62\n",
       "\n",
       "[10514 rows x 2 columns]"
      ]
     },
     "execution_count": 12,
     "metadata": {},
     "output_type": "execute_result"
    }
   ],
   "source": [
    "serie"
   ]
  },
  {
   "cell_type": "code",
   "execution_count": 13,
   "id": "99459eb5-fdad-4dda-9e37-ac372f44ae4c",
   "metadata": {},
   "outputs": [
    {
     "data": {
      "text/html": [
       "<div>\n",
       "<style scoped>\n",
       "    .dataframe tbody tr th:only-of-type {\n",
       "        vertical-align: middle;\n",
       "    }\n",
       "\n",
       "    .dataframe tbody tr th {\n",
       "        vertical-align: top;\n",
       "    }\n",
       "\n",
       "    .dataframe thead th {\n",
       "        text-align: right;\n",
       "    }\n",
       "</style>\n",
       "<table border=\"1\" class=\"dataframe\">\n",
       "  <thead>\n",
       "    <tr style=\"text-align: right;\">\n",
       "      <th></th>\n",
       "      <th>Fecha (dd/mm/aaaa)</th>\n",
       "      <th>Tasa de cambio representativa del mercado (TRM)</th>\n",
       "    </tr>\n",
       "  </thead>\n",
       "  <tbody>\n",
       "    <tr>\n",
       "      <th>0</th>\n",
       "      <td>1991-11-27</td>\n",
       "      <td>693.32</td>\n",
       "    </tr>\n",
       "    <tr>\n",
       "      <th>1</th>\n",
       "      <td>1991-11-28</td>\n",
       "      <td>693.99</td>\n",
       "    </tr>\n",
       "    <tr>\n",
       "      <th>2</th>\n",
       "      <td>1991-11-29</td>\n",
       "      <td>694.70</td>\n",
       "    </tr>\n",
       "    <tr>\n",
       "      <th>3</th>\n",
       "      <td>1991-11-30</td>\n",
       "      <td>694.70</td>\n",
       "    </tr>\n",
       "    <tr>\n",
       "      <th>4</th>\n",
       "      <td>1991-12-01</td>\n",
       "      <td>643.42</td>\n",
       "    </tr>\n",
       "    <tr>\n",
       "      <th>5</th>\n",
       "      <td>1991-12-02</td>\n",
       "      <td>643.42</td>\n",
       "    </tr>\n",
       "    <tr>\n",
       "      <th>6</th>\n",
       "      <td>1991-12-03</td>\n",
       "      <td>639.22</td>\n",
       "    </tr>\n",
       "    <tr>\n",
       "      <th>7</th>\n",
       "      <td>1991-12-04</td>\n",
       "      <td>635.70</td>\n",
       "    </tr>\n",
       "    <tr>\n",
       "      <th>8</th>\n",
       "      <td>1991-12-05</td>\n",
       "      <td>631.51</td>\n",
       "    </tr>\n",
       "    <tr>\n",
       "      <th>9</th>\n",
       "      <td>1991-12-06</td>\n",
       "      <td>627.16</td>\n",
       "    </tr>\n",
       "  </tbody>\n",
       "</table>\n",
       "</div>"
      ],
      "text/plain": [
       "  Fecha (dd/mm/aaaa)  Tasa de cambio representativa del mercado (TRM)\n",
       "0         1991-11-27                                           693.32\n",
       "1         1991-11-28                                           693.99\n",
       "2         1991-11-29                                           694.70\n",
       "3         1991-11-30                                           694.70\n",
       "4         1991-12-01                                           643.42\n",
       "5         1991-12-02                                           643.42\n",
       "6         1991-12-03                                           639.22\n",
       "7         1991-12-04                                           635.70\n",
       "8         1991-12-05                                           631.51\n",
       "9         1991-12-06                                           627.16"
      ]
     },
     "execution_count": 13,
     "metadata": {},
     "output_type": "execute_result"
    }
   ],
   "source": [
    "serie.head(10)\n"
   ]
  },
  {
   "cell_type": "code",
   "execution_count": 14,
   "id": "adece879-73ad-46f6-8e22-a10626c22327",
   "metadata": {},
   "outputs": [
    {
     "data": {
      "text/html": [
       "<div>\n",
       "<style scoped>\n",
       "    .dataframe tbody tr th:only-of-type {\n",
       "        vertical-align: middle;\n",
       "    }\n",
       "\n",
       "    .dataframe tbody tr th {\n",
       "        vertical-align: top;\n",
       "    }\n",
       "\n",
       "    .dataframe thead th {\n",
       "        text-align: right;\n",
       "    }\n",
       "</style>\n",
       "<table border=\"1\" class=\"dataframe\">\n",
       "  <thead>\n",
       "    <tr style=\"text-align: right;\">\n",
       "      <th></th>\n",
       "      <th>Fecha (dd/mm/aaaa)</th>\n",
       "      <th>Tasa de cambio representativa del mercado (TRM)</th>\n",
       "    </tr>\n",
       "  </thead>\n",
       "  <tbody>\n",
       "    <tr>\n",
       "      <th>10504</th>\n",
       "      <td>2020-08-30</td>\n",
       "      <td>3760.38</td>\n",
       "    </tr>\n",
       "    <tr>\n",
       "      <th>10505</th>\n",
       "      <td>2020-08-31</td>\n",
       "      <td>3760.38</td>\n",
       "    </tr>\n",
       "    <tr>\n",
       "      <th>10506</th>\n",
       "      <td>2020-09-01</td>\n",
       "      <td>3745.41</td>\n",
       "    </tr>\n",
       "    <tr>\n",
       "      <th>10507</th>\n",
       "      <td>2020-09-02</td>\n",
       "      <td>3683.28</td>\n",
       "    </tr>\n",
       "    <tr>\n",
       "      <th>10508</th>\n",
       "      <td>2020-09-03</td>\n",
       "      <td>3653.70</td>\n",
       "    </tr>\n",
       "    <tr>\n",
       "      <th>10509</th>\n",
       "      <td>2020-09-04</td>\n",
       "      <td>3653.23</td>\n",
       "    </tr>\n",
       "    <tr>\n",
       "      <th>10510</th>\n",
       "      <td>2020-09-05</td>\n",
       "      <td>3702.62</td>\n",
       "    </tr>\n",
       "    <tr>\n",
       "      <th>10511</th>\n",
       "      <td>2020-09-06</td>\n",
       "      <td>3702.62</td>\n",
       "    </tr>\n",
       "    <tr>\n",
       "      <th>10512</th>\n",
       "      <td>2020-09-07</td>\n",
       "      <td>3702.62</td>\n",
       "    </tr>\n",
       "    <tr>\n",
       "      <th>10513</th>\n",
       "      <td>2020-09-08</td>\n",
       "      <td>3702.62</td>\n",
       "    </tr>\n",
       "  </tbody>\n",
       "</table>\n",
       "</div>"
      ],
      "text/plain": [
       "      Fecha (dd/mm/aaaa)  Tasa de cambio representativa del mercado (TRM)\n",
       "10504         2020-08-30                                          3760.38\n",
       "10505         2020-08-31                                          3760.38\n",
       "10506         2020-09-01                                          3745.41\n",
       "10507         2020-09-02                                          3683.28\n",
       "10508         2020-09-03                                          3653.70\n",
       "10509         2020-09-04                                          3653.23\n",
       "10510         2020-09-05                                          3702.62\n",
       "10511         2020-09-06                                          3702.62\n",
       "10512         2020-09-07                                          3702.62\n",
       "10513         2020-09-08                                          3702.62"
      ]
     },
     "execution_count": 14,
     "metadata": {},
     "output_type": "execute_result"
    }
   ],
   "source": [
    "serie.tail(10)"
   ]
  },
  {
   "cell_type": "code",
   "execution_count": 15,
   "id": "736484d3-ff3d-465d-a3bc-c69011dd53d4",
   "metadata": {},
   "outputs": [],
   "source": [
    "serie=serie.rename(columns={\"Fecha (dd/mm/aaaa)\": \"Fecha\", \"Tasa de cambio representativa del mercado (TRM)\": \"Tasa\"})"
   ]
  },
  {
   "cell_type": "code",
   "execution_count": 16,
   "id": "9d401d6c-3009-406f-be94-26cc0861ad77",
   "metadata": {},
   "outputs": [
    {
     "data": {
      "text/plain": [
       "Index(['Fecha', 'Tasa'], dtype='object')"
      ]
     },
     "execution_count": 16,
     "metadata": {},
     "output_type": "execute_result"
    }
   ],
   "source": [
    "serie.columns"
   ]
  },
  {
   "cell_type": "code",
   "execution_count": 17,
   "id": "cfde2a4a-9c17-47f4-a12f-c92f67276fde",
   "metadata": {},
   "outputs": [],
   "source": [
    "serie[\"mesaño\"]=serie[\"Fecha\"].dt.to_period(\"M\")"
   ]
  },
  {
   "cell_type": "code",
   "execution_count": 18,
   "id": "59935551-ad98-466f-b503-5fc3d65c2dc4",
   "metadata": {},
   "outputs": [
    {
     "data": {
      "text/html": [
       "<div>\n",
       "<style scoped>\n",
       "    .dataframe tbody tr th:only-of-type {\n",
       "        vertical-align: middle;\n",
       "    }\n",
       "\n",
       "    .dataframe tbody tr th {\n",
       "        vertical-align: top;\n",
       "    }\n",
       "\n",
       "    .dataframe thead th {\n",
       "        text-align: right;\n",
       "    }\n",
       "</style>\n",
       "<table border=\"1\" class=\"dataframe\">\n",
       "  <thead>\n",
       "    <tr style=\"text-align: right;\">\n",
       "      <th></th>\n",
       "      <th>Fecha</th>\n",
       "      <th>Tasa</th>\n",
       "      <th>mesaño</th>\n",
       "    </tr>\n",
       "  </thead>\n",
       "  <tbody>\n",
       "    <tr>\n",
       "      <th>0</th>\n",
       "      <td>1991-11-27</td>\n",
       "      <td>693.32</td>\n",
       "      <td>1991-11</td>\n",
       "    </tr>\n",
       "    <tr>\n",
       "      <th>1</th>\n",
       "      <td>1991-11-28</td>\n",
       "      <td>693.99</td>\n",
       "      <td>1991-11</td>\n",
       "    </tr>\n",
       "    <tr>\n",
       "      <th>2</th>\n",
       "      <td>1991-11-29</td>\n",
       "      <td>694.70</td>\n",
       "      <td>1991-11</td>\n",
       "    </tr>\n",
       "    <tr>\n",
       "      <th>3</th>\n",
       "      <td>1991-11-30</td>\n",
       "      <td>694.70</td>\n",
       "      <td>1991-11</td>\n",
       "    </tr>\n",
       "    <tr>\n",
       "      <th>4</th>\n",
       "      <td>1991-12-01</td>\n",
       "      <td>643.42</td>\n",
       "      <td>1991-12</td>\n",
       "    </tr>\n",
       "    <tr>\n",
       "      <th>...</th>\n",
       "      <td>...</td>\n",
       "      <td>...</td>\n",
       "      <td>...</td>\n",
       "    </tr>\n",
       "    <tr>\n",
       "      <th>10509</th>\n",
       "      <td>2020-09-04</td>\n",
       "      <td>3653.23</td>\n",
       "      <td>2020-09</td>\n",
       "    </tr>\n",
       "    <tr>\n",
       "      <th>10510</th>\n",
       "      <td>2020-09-05</td>\n",
       "      <td>3702.62</td>\n",
       "      <td>2020-09</td>\n",
       "    </tr>\n",
       "    <tr>\n",
       "      <th>10511</th>\n",
       "      <td>2020-09-06</td>\n",
       "      <td>3702.62</td>\n",
       "      <td>2020-09</td>\n",
       "    </tr>\n",
       "    <tr>\n",
       "      <th>10512</th>\n",
       "      <td>2020-09-07</td>\n",
       "      <td>3702.62</td>\n",
       "      <td>2020-09</td>\n",
       "    </tr>\n",
       "    <tr>\n",
       "      <th>10513</th>\n",
       "      <td>2020-09-08</td>\n",
       "      <td>3702.62</td>\n",
       "      <td>2020-09</td>\n",
       "    </tr>\n",
       "  </tbody>\n",
       "</table>\n",
       "<p>10514 rows × 3 columns</p>\n",
       "</div>"
      ],
      "text/plain": [
       "           Fecha     Tasa   mesaño\n",
       "0     1991-11-27   693.32  1991-11\n",
       "1     1991-11-28   693.99  1991-11\n",
       "2     1991-11-29   694.70  1991-11\n",
       "3     1991-11-30   694.70  1991-11\n",
       "4     1991-12-01   643.42  1991-12\n",
       "...          ...      ...      ...\n",
       "10509 2020-09-04  3653.23  2020-09\n",
       "10510 2020-09-05  3702.62  2020-09\n",
       "10511 2020-09-06  3702.62  2020-09\n",
       "10512 2020-09-07  3702.62  2020-09\n",
       "10513 2020-09-08  3702.62  2020-09\n",
       "\n",
       "[10514 rows x 3 columns]"
      ]
     },
     "execution_count": 18,
     "metadata": {},
     "output_type": "execute_result"
    }
   ],
   "source": [
    "serie"
   ]
  },
  {
   "cell_type": "code",
   "execution_count": 19,
   "id": "ccef0fa7-4e93-4b65-98f1-dd003851cd4d",
   "metadata": {},
   "outputs": [
    {
     "data": {
      "text/plain": [
       "2020-08    31\n",
       "2013-07    31\n",
       "2014-12    31\n",
       "2013-08    31\n",
       "2012-12    31\n",
       "           ..\n",
       "2013-02    28\n",
       "2006-02    28\n",
       "1994-02    28\n",
       "2020-09     8\n",
       "1991-11     4\n",
       "Freq: M, Name: mesaño, Length: 347, dtype: int64"
      ]
     },
     "execution_count": 19,
     "metadata": {},
     "output_type": "execute_result"
    }
   ],
   "source": [
    "pd.value_counts(serie.mesaño)   #Tabla de frecuencias - las organiza de mayor a menor frecuencia"
   ]
  },
  {
   "cell_type": "code",
   "execution_count": 20,
   "id": "c0f950b4-1513-46c3-b63b-26765d6c660c",
   "metadata": {},
   "outputs": [
    {
     "data": {
      "text/html": [
       "<div>\n",
       "<style scoped>\n",
       "    .dataframe tbody tr th:only-of-type {\n",
       "        vertical-align: middle;\n",
       "    }\n",
       "\n",
       "    .dataframe tbody tr th {\n",
       "        vertical-align: top;\n",
       "    }\n",
       "\n",
       "    .dataframe thead th {\n",
       "        text-align: right;\n",
       "    }\n",
       "</style>\n",
       "<table border=\"1\" class=\"dataframe\">\n",
       "  <thead>\n",
       "    <tr style=\"text-align: right;\">\n",
       "      <th></th>\n",
       "      <th>index</th>\n",
       "      <th>mesaño</th>\n",
       "    </tr>\n",
       "  </thead>\n",
       "  <tbody>\n",
       "    <tr>\n",
       "      <th>0</th>\n",
       "      <td>2020-08</td>\n",
       "      <td>31</td>\n",
       "    </tr>\n",
       "    <tr>\n",
       "      <th>1</th>\n",
       "      <td>2013-07</td>\n",
       "      <td>31</td>\n",
       "    </tr>\n",
       "    <tr>\n",
       "      <th>2</th>\n",
       "      <td>2014-12</td>\n",
       "      <td>31</td>\n",
       "    </tr>\n",
       "    <tr>\n",
       "      <th>3</th>\n",
       "      <td>2013-08</td>\n",
       "      <td>31</td>\n",
       "    </tr>\n",
       "    <tr>\n",
       "      <th>4</th>\n",
       "      <td>2012-12</td>\n",
       "      <td>31</td>\n",
       "    </tr>\n",
       "    <tr>\n",
       "      <th>...</th>\n",
       "      <td>...</td>\n",
       "      <td>...</td>\n",
       "    </tr>\n",
       "    <tr>\n",
       "      <th>342</th>\n",
       "      <td>2013-02</td>\n",
       "      <td>28</td>\n",
       "    </tr>\n",
       "    <tr>\n",
       "      <th>343</th>\n",
       "      <td>2006-02</td>\n",
       "      <td>28</td>\n",
       "    </tr>\n",
       "    <tr>\n",
       "      <th>344</th>\n",
       "      <td>1994-02</td>\n",
       "      <td>28</td>\n",
       "    </tr>\n",
       "    <tr>\n",
       "      <th>345</th>\n",
       "      <td>2020-09</td>\n",
       "      <td>8</td>\n",
       "    </tr>\n",
       "    <tr>\n",
       "      <th>346</th>\n",
       "      <td>1991-11</td>\n",
       "      <td>4</td>\n",
       "    </tr>\n",
       "  </tbody>\n",
       "</table>\n",
       "<p>347 rows × 2 columns</p>\n",
       "</div>"
      ],
      "text/plain": [
       "       index  mesaño\n",
       "0    2020-08      31\n",
       "1    2013-07      31\n",
       "2    2014-12      31\n",
       "3    2013-08      31\n",
       "4    2012-12      31\n",
       "..       ...     ...\n",
       "342  2013-02      28\n",
       "343  2006-02      28\n",
       "344  1994-02      28\n",
       "345  2020-09       8\n",
       "346  1991-11       4\n",
       "\n",
       "[347 rows x 2 columns]"
      ]
     },
     "execution_count": 20,
     "metadata": {},
     "output_type": "execute_result"
    }
   ],
   "source": [
    "pd.value_counts(serie.mesaño).to_frame().reset_index()   # ¿Qué información adicional hay aquí? ¿Se puede usar la tabla como un objeto de python?"
   ]
  },
  {
   "cell_type": "code",
   "execution_count": 21,
   "id": "755d7d39-63da-4ac5-8795-85a393c6bab8",
   "metadata": {},
   "outputs": [],
   "source": [
    "serie_mesaño_unavar=serie.groupby('mesaño')[['Tasa']].mean() # usar todos los paréntesis para que se cree como un dataframe"
   ]
  },
  {
   "cell_type": "code",
   "execution_count": 22,
   "id": "0148a70e-0ca2-435a-914e-072bcb03141d",
   "metadata": {},
   "outputs": [
    {
     "data": {
      "text/plain": [
       "Index(['Tasa'], dtype='object')"
      ]
     },
     "execution_count": 22,
     "metadata": {},
     "output_type": "execute_result"
    }
   ],
   "source": [
    "serie_mesaño_unavar.columns ## la columna de indexación es mesaño. "
   ]
  },
  {
   "cell_type": "code",
   "execution_count": 23,
   "id": "18042597-41ec-4ccc-a9a3-f385363a8edb",
   "metadata": {},
   "outputs": [],
   "source": [
    " serie[\"año\"]=serie['mesaño'].dt.year"
   ]
  },
  {
   "cell_type": "code",
   "execution_count": 24,
   "id": "2a112dba-bae2-450f-9167-002295a6c5d9",
   "metadata": {},
   "outputs": [],
   "source": [
    " serie[\"mes\"]=serie['mesaño'].dt.month"
   ]
  },
  {
   "cell_type": "code",
   "execution_count": 25,
   "id": "4b2889bc-6b28-416c-8af9-cc6a46c9bf83",
   "metadata": {},
   "outputs": [],
   "source": [
    "serie_mesaño_dosvar=serie.groupby(['año','mes'])[['Tasa']].mean() # los paréntesis cuadrado agrupan variables en el by"
   ]
  },
  {
   "cell_type": "code",
   "execution_count": 26,
   "id": "de6dec90-96ab-406a-bbd5-63cc5433ec1a",
   "metadata": {},
   "outputs": [
    {
     "data": {
      "text/html": [
       "<div>\n",
       "<style scoped>\n",
       "    .dataframe tbody tr th:only-of-type {\n",
       "        vertical-align: middle;\n",
       "    }\n",
       "\n",
       "    .dataframe tbody tr th {\n",
       "        vertical-align: top;\n",
       "    }\n",
       "\n",
       "    .dataframe thead th {\n",
       "        text-align: right;\n",
       "    }\n",
       "</style>\n",
       "<table border=\"1\" class=\"dataframe\">\n",
       "  <thead>\n",
       "    <tr style=\"text-align: right;\">\n",
       "      <th></th>\n",
       "      <th></th>\n",
       "      <th>Tasa</th>\n",
       "    </tr>\n",
       "    <tr>\n",
       "      <th>año</th>\n",
       "      <th>mes</th>\n",
       "      <th></th>\n",
       "    </tr>\n",
       "  </thead>\n",
       "  <tbody>\n",
       "    <tr>\n",
       "      <th rowspan=\"2\" valign=\"top\">1991</th>\n",
       "      <th>11</th>\n",
       "      <td>694.177500</td>\n",
       "    </tr>\n",
       "    <tr>\n",
       "      <th>12</th>\n",
       "      <td>630.412581</td>\n",
       "    </tr>\n",
       "    <tr>\n",
       "      <th rowspan=\"3\" valign=\"top\">1992</th>\n",
       "      <th>1</th>\n",
       "      <td>644.058065</td>\n",
       "    </tr>\n",
       "    <tr>\n",
       "      <th>2</th>\n",
       "      <td>635.671724</td>\n",
       "    </tr>\n",
       "    <tr>\n",
       "      <th>3</th>\n",
       "      <td>640.501935</td>\n",
       "    </tr>\n",
       "    <tr>\n",
       "      <th>...</th>\n",
       "      <th>...</th>\n",
       "      <td>...</td>\n",
       "    </tr>\n",
       "    <tr>\n",
       "      <th rowspan=\"5\" valign=\"top\">2020</th>\n",
       "      <th>5</th>\n",
       "      <td>3858.191613</td>\n",
       "    </tr>\n",
       "    <tr>\n",
       "      <th>6</th>\n",
       "      <td>3701.604333</td>\n",
       "    </tr>\n",
       "    <tr>\n",
       "      <th>7</th>\n",
       "      <td>3657.866774</td>\n",
       "    </tr>\n",
       "    <tr>\n",
       "      <th>8</th>\n",
       "      <td>3783.025806</td>\n",
       "    </tr>\n",
       "    <tr>\n",
       "      <th>9</th>\n",
       "      <td>3693.262500</td>\n",
       "    </tr>\n",
       "  </tbody>\n",
       "</table>\n",
       "<p>347 rows × 1 columns</p>\n",
       "</div>"
      ],
      "text/plain": [
       "                 Tasa\n",
       "año  mes             \n",
       "1991 11    694.177500\n",
       "     12    630.412581\n",
       "1992 1     644.058065\n",
       "     2     635.671724\n",
       "     3     640.501935\n",
       "...               ...\n",
       "2020 5    3858.191613\n",
       "     6    3701.604333\n",
       "     7    3657.866774\n",
       "     8    3783.025806\n",
       "     9    3693.262500\n",
       "\n",
       "[347 rows x 1 columns]"
      ]
     },
     "execution_count": 26,
     "metadata": {},
     "output_type": "execute_result"
    }
   ],
   "source": [
    "serie_mesaño_dosvar #Las variables en by son de indexación\n"
   ]
  },
  {
   "cell_type": "code",
   "execution_count": 27,
   "id": "fa688e56-e797-4413-b0fd-5f883f4b87cf",
   "metadata": {},
   "outputs": [
    {
     "data": {
      "text/plain": [
       "Index(['Tasa'], dtype='object')"
      ]
     },
     "execution_count": 27,
     "metadata": {},
     "output_type": "execute_result"
    }
   ],
   "source": [
    "serie_mesaño_dosvar.columns"
   ]
  }
 ],
 "metadata": {
  "kernelspec": {
   "display_name": "Python 3",
   "language": "python",
   "name": "python3"
  },
  "language_info": {
   "codemirror_mode": {
    "name": "ipython",
    "version": 3
   },
   "file_extension": ".py",
   "mimetype": "text/x-python",
   "name": "python",
   "nbconvert_exporter": "python",
   "pygments_lexer": "ipython3",
   "version": "3.7.0"
  }
 },
 "nbformat": 4,
 "nbformat_minor": 5
}
