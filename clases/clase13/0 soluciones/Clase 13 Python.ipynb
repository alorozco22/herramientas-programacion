{
 "cells": [
  {
   "cell_type": "markdown",
   "metadata": {},
   "source": [
    "# Clase 13: taller final\n",
    "### Herramientas de programación para el análisis de datos | Universidad de los Andes"
   ]
  },
  {
   "cell_type": "markdown",
   "metadata": {},
   "source": [
    "## 0. Program set up"
   ]
  },
  {
   "cell_type": "markdown",
   "metadata": {},
   "source": [
    "Importando las librerías necesarias, si no están instaladas podemos usar<br>\n",
    "**pip install matplotlib**"
   ]
  },
  {
   "cell_type": "code",
   "execution_count": null,
   "metadata": {},
   "outputs": [],
   "source": [
    "# Pandas para manipular los DataFrames\n",
    "import pandas as pd\n",
    "import numpy as np\n",
    "import matplotlib.pyplot as plt\n",
    "import statsmodels.api as sm"
   ]
  },
  {
   "cell_type": "markdown",
   "metadata": {},
   "source": [
    "## 1. Consolidar datos"
   ]
  },
  {
   "cell_type": "markdown",
   "metadata": {},
   "source": [
    "**Noten:** ¡Pandas nos permite cargar archivos en formato nativo de STATA (.dta)!"
   ]
  },
  {
   "cell_type": "code",
   "execution_count": null,
   "metadata": {},
   "outputs": [],
   "source": [
    "# Cargamos los datos urbanos a DataFrames de Pandas\n",
    "Upersonas = pd.read_stata('Upersonas.dta')\n",
    "Uhogar = pd.read_stata('Uhogar.dta')"
   ]
  },
  {
   "cell_type": "code",
   "execution_count": null,
   "metadata": {},
   "outputs": [],
   "source": [
    "# Cargamos los rurales a DataFrames de Pandas\n",
    "Rpersonas = pd.read_stata('Rpersonas.dta')\n",
    "Rhogar = pd.read_stata('Rhogar.dta')"
   ]
  },
  {
   "cell_type": "code",
   "execution_count": null,
   "metadata": {},
   "outputs": [],
   "source": [
    "Upersonas.head(6)"
   ]
  },
  {
   "cell_type": "code",
   "execution_count": null,
   "metadata": {},
   "outputs": [],
   "source": [
    "Uhogar.head(6)"
   ]
  },
  {
   "cell_type": "markdown",
   "metadata": {},
   "source": [
    "### Uniones horizontales internas (inner joins) de las bases Rural y Urbana\n",
    "Inner porque nos interesan las observaciones que se encuentran en ambas bases, tanto personas como hogares.\n",
    "\n",
    "llave_n16 es sólo la llave que une personas con hogares para 2016. Eso indica el diccionario de la base."
   ]
  },
  {
   "cell_type": "code",
   "execution_count": null,
   "metadata": {},
   "outputs": [],
   "source": [
    "Urbano = Upersonas.merge(Uhogar, on='llave_n16')\n",
    "Rural = Rpersonas.merge(Rhogar, on='llave_n16')"
   ]
  },
  {
   "cell_type": "markdown",
   "metadata": {},
   "source": [
    "### Base consolidada agregando verticalmente Rural y Urbano"
   ]
  },
  {
   "cell_type": "code",
   "execution_count": null,
   "metadata": {},
   "outputs": [],
   "source": [
    "Datos = Rural.append(Urbano)"
   ]
  },
  {
   "cell_type": "code",
   "execution_count": null,
   "metadata": {},
   "outputs": [],
   "source": [
    "# Observamos la cantidad de filas y columnas\n",
    "Datos.shape"
   ]
  },
  {
   "cell_type": "markdown",
   "metadata": {},
   "source": [
    "### Visualizamos"
   ]
  },
  {
   "cell_type": "code",
   "execution_count": null,
   "metadata": {},
   "outputs": [],
   "source": [
    "Datos.head(10)"
   ]
  },
  {
   "cell_type": "markdown",
   "metadata": {},
   "source": [
    "### Dejar las variables importantes"
   ]
  },
  {
   "cell_type": "code",
   "execution_count": null,
   "metadata": {},
   "outputs": [],
   "source": [
    "Datos = Datos.rename(columns={'sexo': 'mujer'})"
   ]
  },
  {
   "cell_type": "code",
   "execution_count": null,
   "metadata": {},
   "outputs": [],
   "source": [
    "columnas = ['hoy_fuma', 'come_paquete', 'come_fritos', 'hospital_veces', 'ehace_deporte', 'zona', 'edad', 'mujer', 'hijos_vivos', 'sp_estrato', 't_personas', 'tercil2016', 'ha_fumado', 'dias_noasistio', 'afiliacion']\n",
    "Datos = Datos[columnas]"
   ]
  },
  {
   "cell_type": "markdown",
   "metadata": {},
   "source": [
    "### Revisamos finalmente la base consolidada"
   ]
  },
  {
   "cell_type": "code",
   "execution_count": null,
   "metadata": {},
   "outputs": [],
   "source": [
    "Datos.head()"
   ]
  },
  {
   "cell_type": "code",
   "execution_count": null,
   "metadata": {},
   "outputs": [],
   "source": [
    "Datos.shape"
   ]
  },
  {
   "cell_type": "code",
   "execution_count": null,
   "metadata": {},
   "outputs": [],
   "source": [
    "Datos.dtypes"
   ]
  },
  {
   "cell_type": "markdown",
   "metadata": {},
   "source": [
    "## 2. Editar variables"
   ]
  },
  {
   "cell_type": "markdown",
   "metadata": {},
   "source": [
    "### Codificar valores"
   ]
  },
  {
   "cell_type": "markdown",
   "metadata": {},
   "source": [
    "Primero construimos la columna completamente numérica"
   ]
  },
  {
   "cell_type": "code",
   "execution_count": null,
   "metadata": {},
   "outputs": [],
   "source": [
    "# Una columna de verdaderos y falsos donde se cumple la condición: zona es missing value\n",
    "seleccionDeFilas = Datos['zona'].isnull()\n",
    "# Indicamos como Rural las filas donde se cumple la selección\n",
    "Datos.loc[seleccionDeFilas, 'zona'] = 0"
   ]
  },
  {
   "cell_type": "code",
   "execution_count": null,
   "metadata": {},
   "outputs": [],
   "source": [
    "# Una columna de verdaderos y falsos donde se cumple la condición: zona es missing value\n",
    "seleccionDeFilas = (Datos['zona']=='Urbano')\n",
    "# Indicamos como Rural las filas donde se cumple la selección\n",
    "Datos.loc[seleccionDeFilas, 'zona'] = 1"
   ]
  },
  {
   "cell_type": "markdown",
   "metadata": {},
   "source": [
    "**Tenemos:** los siguientes valores"
   ]
  },
  {
   "cell_type": "code",
   "execution_count": null,
   "metadata": {},
   "outputs": [],
   "source": [
    "Datos['zona'].value_counts()"
   ]
  },
  {
   "cell_type": "markdown",
   "metadata": {},
   "source": [
    "*********\n",
    "**Note:** En Pandas sólo es necesario asignar el tipo categórico a la columna y así la base tendrá menor tamaño y las operaciones ocurrirán con mayor velocidad. Ahora mismo, zona no es categórica.\n",
    "*********"
   ]
  },
  {
   "cell_type": "code",
   "execution_count": null,
   "metadata": {},
   "outputs": [],
   "source": [
    "Datos.dtypes"
   ]
  },
  {
   "cell_type": "markdown",
   "metadata": {},
   "source": [
    "**Así que:** la asignamos categórica y generamos un diccionario"
   ]
  },
  {
   "cell_type": "code",
   "execution_count": null,
   "metadata": {},
   "outputs": [],
   "source": [
    "Datos[\"zona\"] = Datos[\"zona\"].astype('category')\n",
    "label_zona = dict(enumerate(Datos['zona'].cat.categories))\n",
    "print(label_zona)"
   ]
  },
  {
   "cell_type": "markdown",
   "metadata": {},
   "source": [
    "**Luego:** podemos editar ese diccionario como nos parezca mejor"
   ]
  },
  {
   "cell_type": "code",
   "execution_count": null,
   "metadata": {},
   "outputs": [],
   "source": [
    "label_zona = {0: 'Rural', 1: 'Urbano'}\n",
    "label_zona"
   ]
  },
  {
   "cell_type": "markdown",
   "metadata": {},
   "source": [
    "### Así, para ir de números a etiquetas:"
   ]
  },
  {
   "cell_type": "code",
   "execution_count": null,
   "metadata": {},
   "outputs": [],
   "source": [
    "Datos['zona_cat'] = Datos['zona'].map(label_zona)\n",
    "Datos[\"zona_cat\"] = Datos[\"zona_cat\"].astype('category')"
   ]
  },
  {
   "cell_type": "code",
   "execution_count": null,
   "metadata": {},
   "outputs": [],
   "source": [
    "Datos[['zona', 'zona_cat']]"
   ]
  },
  {
   "cell_type": "markdown",
   "metadata": {},
   "source": [
    "**Note que las dos son categóricas**"
   ]
  },
  {
   "cell_type": "code",
   "execution_count": null,
   "metadata": {},
   "outputs": [],
   "source": [
    "Datos[['zona', 'zona_cat']].dtypes"
   ]
  },
  {
   "cell_type": "markdown",
   "metadata": {},
   "source": [
    "### Y, para ir de etiquetas a números:"
   ]
  },
  {
   "cell_type": "code",
   "execution_count": null,
   "metadata": {},
   "outputs": [],
   "source": [
    "Datos['zona_num'] = Datos['zona_cat'].astype('category').cat.codes\n",
    "Datos['zona_num']= Datos['zona_num'].astype('category')"
   ]
  },
  {
   "cell_type": "code",
   "execution_count": null,
   "metadata": {},
   "outputs": [],
   "source": [
    "Datos[['zona', 'zona_cat', 'zona_num']]"
   ]
  },
  {
   "cell_type": "code",
   "execution_count": null,
   "metadata": {},
   "outputs": [],
   "source": [
    "Datos[['zona', 'zona_cat', 'zona_num']].dtypes"
   ]
  },
  {
   "cell_type": "markdown",
   "metadata": {},
   "source": [
    "### Respecto a categóricas siguentes"
   ]
  },
  {
   "cell_type": "code",
   "execution_count": null,
   "metadata": {},
   "outputs": [],
   "source": [
    "columnas = ['ha_fumado', 'come_paquete', 'come_fritos', 'hijos_vivos']"
   ]
  },
  {
   "cell_type": "code",
   "execution_count": null,
   "metadata": {},
   "outputs": [],
   "source": [
    "for col in columnas:\n",
    "    print(Datos[col].value_counts())\n",
    "    print('missing', Datos[col].isna().sum())\n",
    "    print()"
   ]
  },
  {
   "cell_type": "markdown",
   "metadata": {},
   "source": [
    "### Recodificamos Sí a 1, No a 0"
   ]
  },
  {
   "cell_type": "code",
   "execution_count": null,
   "metadata": {},
   "outputs": [],
   "source": [
    "for col in columnas:\n",
    "    label_temp = dict(enumerate(Datos[col].cat.categories))\n",
    "    print(label_temp)"
   ]
  },
  {
   "cell_type": "markdown",
   "metadata": {},
   "source": [
    "### Las convertimos en números"
   ]
  },
  {
   "cell_type": "code",
   "execution_count": null,
   "metadata": {},
   "outputs": [],
   "source": [
    "for col in columnas:\n",
    "    Datos[col] = Datos[col].astype('category').cat.codes"
   ]
  },
  {
   "cell_type": "code",
   "execution_count": null,
   "metadata": {},
   "outputs": [],
   "source": [
    "for col in columnas:\n",
    "    print(Datos[col].value_counts())\n",
    "    print('missing', Datos[col].isna().sum())\n",
    "    print()"
   ]
  },
  {
   "cell_type": "markdown",
   "metadata": {},
   "source": [
    "**Convirtió:** No en 1, Sí en 0, y NaN en -1"
   ]
  },
  {
   "cell_type": "code",
   "execution_count": null,
   "metadata": {},
   "outputs": [],
   "source": [
    "for col in columnas:\n",
    "    sel = (Datos[col]==1)\n",
    "    Datos.loc[sel, col] = 2\n",
    "    \n",
    "    sel = (Datos[col]==0)\n",
    "    Datos.loc[sel, col] = 1\n",
    "    \n",
    "    sel = (Datos[col]==2)\n",
    "    Datos.loc[sel, col] = 0\n",
    "    \n",
    "    sel = (Datos[col]==-1)\n",
    "    Datos.loc[sel, col] = np.NaN"
   ]
  },
  {
   "cell_type": "code",
   "execution_count": null,
   "metadata": {},
   "outputs": [],
   "source": [
    "for col in columnas:\n",
    "    print(Datos[col].value_counts())\n",
    "    print('missing', Datos[col].isna().sum())\n",
    "    print()"
   ]
  },
  {
   "cell_type": "markdown",
   "metadata": {},
   "source": [
    "### Ya solo sería mapearlo según una etiqueta para 0 y 1 como está en las siguientes dos celdas"
   ]
  },
  {
   "cell_type": "markdown",
   "metadata": {},
   "source": [
    "### PERO: no vamos a hacerlo porque vamos a usar los valores numéricos después"
   ]
  },
  {
   "cell_type": "code",
   "execution_count": null,
   "metadata": {},
   "outputs": [],
   "source": [
    "# No ejecutar\n",
    "label_booleano = {0: 'No', 1: 'Sí'}\n",
    "for col in columnas:\n",
    "    Datos[col] = Datos[col].map(label_booleano)\n",
    "    Datos[col] = Datos[col].astype('category')"
   ]
  },
  {
   "cell_type": "code",
   "execution_count": null,
   "metadata": {},
   "outputs": [],
   "source": [
    "# No ejecutar\n",
    "Datos[columnas]"
   ]
  },
  {
   "cell_type": "markdown",
   "metadata": {},
   "source": [
    "### Y para mujer:"
   ]
  },
  {
   "cell_type": "code",
   "execution_count": null,
   "metadata": {},
   "outputs": [],
   "source": [
    "Datos['mujer'].value_counts()"
   ]
  },
  {
   "cell_type": "code",
   "execution_count": null,
   "metadata": {},
   "outputs": [],
   "source": [
    "Datos['mujer'].isna().sum()"
   ]
  },
  {
   "cell_type": "markdown",
   "metadata": {},
   "source": [
    "### Renombramos mujer"
   ]
  },
  {
   "cell_type": "code",
   "execution_count": null,
   "metadata": {},
   "outputs": [],
   "source": [
    "# Una columna de verdaderos y falsos donde se cumple la condición: es igual a 'Mujer'\n",
    "seleccionDeFilas = (Datos['mujer'] == 'Mujer')\n",
    "Datos.loc[seleccionDeFilas, 'mujer'] = 'Sí'"
   ]
  },
  {
   "cell_type": "code",
   "execution_count": null,
   "metadata": {},
   "outputs": [],
   "source": [
    "# Una columna de verdaderos y falsos donde se cumple la condición: es igual a 'MUJER'\n",
    "seleccionDeFilas = (Datos['mujer'] == 'MUJER')\n",
    "Datos.loc[seleccionDeFilas, 'mujer'] = 'Sí'"
   ]
  },
  {
   "cell_type": "code",
   "execution_count": null,
   "metadata": {},
   "outputs": [],
   "source": [
    "# Una columna de verdaderos y falsos donde se cumple la condición: es igual a 'Hombre'\n",
    "seleccionDeFilas = (Datos['mujer'] == 'Hombre')\n",
    "Datos.loc[seleccionDeFilas, 'mujer'] = 'No'"
   ]
  },
  {
   "cell_type": "code",
   "execution_count": null,
   "metadata": {},
   "outputs": [],
   "source": [
    "# Una columna de verdaderos y falsos donde se cumple la condición: es igual a 'HOMBRE'\n",
    "seleccionDeFilas = (Datos['mujer'] == 'HOMBRE')\n",
    "Datos.loc[seleccionDeFilas, 'mujer'] = 'No'"
   ]
  },
  {
   "cell_type": "code",
   "execution_count": null,
   "metadata": {},
   "outputs": [],
   "source": [
    "Datos['mujer'].value_counts()"
   ]
  },
  {
   "cell_type": "code",
   "execution_count": null,
   "metadata": {},
   "outputs": [],
   "source": [
    "Datos[\"mujer\"] = Datos[\"mujer\"].astype('category')\n",
    "Datos.dtypes"
   ]
  },
  {
   "cell_type": "markdown",
   "metadata": {},
   "source": [
    "***\n",
    "¿Suman las mujeres y hombres iniciales lo mismo que el total después de renombrar?\n",
    "***"
   ]
  },
  {
   "cell_type": "code",
   "execution_count": null,
   "metadata": {},
   "outputs": [],
   "source": [
    "(8737 + 7981 == 16718) & (8434 + 7864 == 16298)"
   ]
  },
  {
   "cell_type": "markdown",
   "metadata": {},
   "source": [
    "## 3. Estadísticas descriptivas"
   ]
  },
  {
   "cell_type": "markdown",
   "metadata": {},
   "source": [
    "### Tablas"
   ]
  },
  {
   "cell_type": "code",
   "execution_count": null,
   "metadata": {},
   "outputs": [],
   "source": [
    "Datos.mean()"
   ]
  },
  {
   "cell_type": "code",
   "execution_count": null,
   "metadata": {},
   "outputs": [],
   "source": [
    "Datos.std()"
   ]
  },
  {
   "cell_type": "code",
   "execution_count": null,
   "metadata": {},
   "outputs": [],
   "source": [
    "Datos.min()"
   ]
  },
  {
   "cell_type": "code",
   "execution_count": null,
   "metadata": {},
   "outputs": [],
   "source": [
    "Datos.max()"
   ]
  },
  {
   "cell_type": "code",
   "execution_count": null,
   "metadata": {},
   "outputs": [],
   "source": [
    "print('Número de observaciones (no missing):')\n",
    "for col in Datos:\n",
    "    print(col,'   ', Datos[col].notna().sum() )\n"
   ]
  },
  {
   "cell_type": "markdown",
   "metadata": {},
   "source": [
    "### Tablas de frecuencias"
   ]
  },
  {
   "cell_type": "code",
   "execution_count": null,
   "metadata": {},
   "outputs": [],
   "source": [
    "for col in Datos:\n",
    "    print()\n",
    "    print('COLUMNA:', col)\n",
    "    print()\n",
    "    print(Datos[col].value_counts())\n"
   ]
  },
  {
   "cell_type": "markdown",
   "metadata": {},
   "source": [
    "### Gráficos: barras 1"
   ]
  },
  {
   "cell_type": "code",
   "execution_count": null,
   "metadata": {},
   "outputs": [],
   "source": [
    "# Definimos un grupo por los valores de hoy_fuma primero\n",
    "x1 = Datos.groupby('hoy_fuma').mean().reset_index()\n",
    "x1"
   ]
  },
  {
   "cell_type": "code",
   "execution_count": null,
   "metadata": {},
   "outputs": [],
   "source": [
    "# Graficamos con variable vertical los números de 0 hasta cuantos grupos haya,\n",
    "## cruzado con el valor de (el promedio de) edad en cada grupo \n",
    "plt.bar(range(len(x1)), x1['edad'])\n",
    "## Configuraciones gráficas: las etiquetas del eje horizontal y vertical\n",
    "plt.xticks(range(len(x1)), x1['hoy_fuma'])\n",
    "plt.ylabel('Promedio de edad')"
   ]
  },
  {
   "cell_type": "markdown",
   "metadata": {},
   "source": [
    "### Gráficos: barras 2"
   ]
  },
  {
   "cell_type": "code",
   "execution_count": null,
   "metadata": {},
   "outputs": [],
   "source": [
    "# Graficamos con variable vertical los números de 0 hasta cuantos grupos haya,\n",
    "## cruzado con el valor de (el promedio de) días que no asistió en cada grupo \n",
    "plt.bar(range(len(x1)), x1['dias_noasistio'])\n",
    "## Configuraciones gráficas: las etiquetas del eje horizontal y vertical\n",
    "plt.xticks(range(len(x1)), x1['hoy_fuma'])\n",
    "plt.ylabel('Promedio de días')"
   ]
  },
  {
   "cell_type": "markdown",
   "metadata": {},
   "source": [
    "### Gráficos: boxplot"
   ]
  },
  {
   "cell_type": "code",
   "execution_count": null,
   "metadata": {},
   "outputs": [],
   "source": [
    "plt.boxplot(Datos['t_personas'])"
   ]
  },
  {
   "cell_type": "markdown",
   "metadata": {},
   "source": [
    "## 4. Regresión"
   ]
  },
  {
   "cell_type": "markdown",
   "metadata": {},
   "source": [
    "### Correlación"
   ]
  },
  {
   "cell_type": "code",
   "execution_count": null,
   "metadata": {},
   "outputs": [],
   "source": [
    "columnas=['dias_noasistio', 'ha_fumado', 'tercil2016', 'edad', 'mujer', 't_personas']\n",
    "Datos[columnas].corr()"
   ]
  },
  {
   "cell_type": "markdown",
   "metadata": {},
   "source": [
    "### Regresión"
   ]
  },
  {
   "cell_type": "markdown",
   "metadata": {},
   "source": [
    "La columna tercil2016 tiene los siguientes valores:"
   ]
  },
  {
   "cell_type": "code",
   "execution_count": null,
   "metadata": {},
   "outputs": [],
   "source": [
    "Datos['tercil2016'].value_counts()"
   ]
  },
  {
   "cell_type": "markdown",
   "metadata": {},
   "source": [
    "**Vamos a crear tres columnas que indiquen si la observación presenta o no cada valor con 1 o 0**"
   ]
  },
  {
   "cell_type": "code",
   "execution_count": null,
   "metadata": {},
   "outputs": [],
   "source": [
    "Datos['tercil20161']=np.NaN\n",
    "sel = Datos['tercil2016'] == 1\n",
    "Datos.loc[sel, 'tercil20161'] = 1\n",
    "\n",
    "sel = Datos['tercil2016'] == 2\n",
    "Datos.loc[sel, 'tercil20161'] = 0\n",
    "\n",
    "sel = Datos['tercil2016'] == 3\n",
    "Datos.loc[sel, 'tercil20161'] = 0"
   ]
  },
  {
   "cell_type": "code",
   "execution_count": null,
   "metadata": {},
   "outputs": [],
   "source": [
    "Datos['tercil20162']=np.NaN\n",
    "sel = Datos['tercil2016'] == 2\n",
    "Datos.loc[sel, 'tercil20162'] = 1\n",
    "\n",
    "sel = Datos['tercil2016'] == 1\n",
    "Datos.loc[sel, 'tercil20162'] = 0\n",
    "\n",
    "sel = Datos['tercil2016'] == 3\n",
    "Datos.loc[sel, 'tercil20162'] = 0"
   ]
  },
  {
   "cell_type": "code",
   "execution_count": null,
   "metadata": {},
   "outputs": [],
   "source": [
    "Datos['tercil20163']=np.NaN\n",
    "sel = Datos['tercil2016'] == 3\n",
    "Datos.loc[sel, 'tercil20163'] = 1\n",
    "\n",
    "sel = Datos['tercil2016'] == 2\n",
    "Datos.loc[sel, 'tercil20163'] = 0\n",
    "\n",
    "sel = Datos['tercil2016'] == 1\n",
    "Datos.loc[sel, 'tercil20163'] = 0"
   ]
  },
  {
   "cell_type": "code",
   "execution_count": null,
   "metadata": {},
   "outputs": [],
   "source": [
    "col=['tercil2016','tercil20161','tercil20162','tercil20163']\n",
    "Datos[col]"
   ]
  },
  {
   "cell_type": "code",
   "execution_count": null,
   "metadata": {},
   "outputs": [],
   "source": [
    "for var in col:\n",
    "    Datos[var] = Datos[var].astype('int16')"
   ]
  },
  {
   "cell_type": "markdown",
   "metadata": {},
   "source": [
    "### El modelo"
   ]
  },
  {
   "cell_type": "code",
   "execution_count": null,
   "metadata": {},
   "outputs": [],
   "source": [
    "mod = sm.OLS.from_formula('dias_noasistio ~ 1 + ha_fumado + tercil20161 + tercil20162 + tercil20163 + edad + mujer + t_personas', data=Datos)\n",
    "res = mod.fit()\n",
    "print(res.summary())"
   ]
  }
 ],
 "metadata": {
  "kernelspec": {
   "display_name": "Python 3",
   "language": "python",
   "name": "python3"
  },
  "language_info": {
   "codemirror_mode": {
    "name": "ipython",
    "version": 3
   },
   "file_extension": ".py",
   "mimetype": "text/x-python",
   "name": "python",
   "nbconvert_exporter": "python",
   "pygments_lexer": "ipython3",
   "version": "3.8.5"
  }
 },
 "nbformat": 4,
 "nbformat_minor": 4
}
