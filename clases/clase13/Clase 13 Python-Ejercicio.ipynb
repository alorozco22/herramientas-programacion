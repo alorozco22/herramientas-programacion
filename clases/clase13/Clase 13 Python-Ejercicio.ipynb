{
 "cells": [
  {
   "cell_type": "markdown",
   "metadata": {},
   "source": [
    "# Clase 13: taller final\n",
    "### Herramientas de programación para el análisis de datos | Universidad de los Andes"
   ]
  },
  {
   "cell_type": "markdown",
   "metadata": {},
   "source": [
    "## 0. Program set up"
   ]
  },
  {
   "cell_type": "markdown",
   "metadata": {},
   "source": [
    "Importando las librerías necesarias, si no están instaladas podemos usar<br>\n",
    "**pip install matplotlib**"
   ]
  },
  {
   "cell_type": "code",
   "execution_count": 1,
   "metadata": {},
   "outputs": [],
   "source": [
    "# Pandas para manipular los DataFrames\n",
    "import pandas as pd\n",
    "import numpy as np\n",
    "import matplotlib.pyplot as plt\n",
    "import statsmodels.api as sm"
   ]
  },
  {
   "cell_type": "markdown",
   "metadata": {},
   "source": [
    "## 1. Consolidar datos"
   ]
  },
  {
   "cell_type": "markdown",
   "metadata": {},
   "source": [
    "**Noten:** ¡Pandas nos permite cargar archivos en formato nativo de STATA (.dta)!"
   ]
  },
  {
   "cell_type": "code",
   "execution_count": 3,
   "metadata": {},
   "outputs": [],
   "source": [
    "# Cargamos los datos urbanos a DataFrames de Pandas\n",
    "Upersonas = pd.read_stata('Upersonas.dta')\n",
    "Uhogar = pd.read_stata('Uhogar.dta')"
   ]
  },
  {
   "cell_type": "code",
   "execution_count": 4,
   "metadata": {},
   "outputs": [],
   "source": [
    "# Cargamos los rurales a DataFrames de Pandas\n",
    "# TODO importar Rpersonas y Rhogar\n",
    "Rpersonas = pd.read_stata('Rpersonas.dta')\n",
    "Rhogar = pd.read_stata('Rhogar.dta')"
   ]
  },
  {
   "cell_type": "code",
   "execution_count": 5,
   "metadata": {},
   "outputs": [
    {
     "data": {
      "text/html": [
       "<div>\n",
       "<style scoped>\n",
       "    .dataframe tbody tr th:only-of-type {\n",
       "        vertical-align: middle;\n",
       "    }\n",
       "\n",
       "    .dataframe tbody tr th {\n",
       "        vertical-align: top;\n",
       "    }\n",
       "\n",
       "    .dataframe thead th {\n",
       "        text-align: right;\n",
       "    }\n",
       "</style>\n",
       "<table border=\"1\" class=\"dataframe\">\n",
       "  <thead>\n",
       "    <tr style=\"text-align: right;\">\n",
       "      <th></th>\n",
       "      <th>ola</th>\n",
       "      <th>zona</th>\n",
       "      <th>consecutivo</th>\n",
       "      <th>llave</th>\n",
       "      <th>hogar</th>\n",
       "      <th>llave_n16</th>\n",
       "      <th>hogar_n16</th>\n",
       "      <th>orden</th>\n",
       "      <th>seguimiento</th>\n",
       "      <th>llave_ID_lb</th>\n",
       "      <th>...</th>\n",
       "      <th>acepta_dinero</th>\n",
       "      <th>vr_aleatorio</th>\n",
       "      <th>vende_voto</th>\n",
       "      <th>valor_voto</th>\n",
       "      <th>voto_secreto</th>\n",
       "      <th>voto_ofrecido</th>\n",
       "      <th>nom_partido</th>\n",
       "      <th>fexpers_2010</th>\n",
       "      <th>fpers_2010</th>\n",
       "      <th>fpers_2016</th>\n",
       "    </tr>\n",
       "  </thead>\n",
       "  <tbody>\n",
       "    <tr>\n",
       "      <th>0</th>\n",
       "      <td>3</td>\n",
       "      <td>Urbano</td>\n",
       "      <td>111001</td>\n",
       "      <td>11100101</td>\n",
       "      <td>1</td>\n",
       "      <td>1.110010e+09</td>\n",
       "      <td>1</td>\n",
       "      <td>1</td>\n",
       "      <td>Si</td>\n",
       "      <td>11100101.0</td>\n",
       "      <td>...</td>\n",
       "      <td>NaN</td>\n",
       "      <td></td>\n",
       "      <td>Sí</td>\n",
       "      <td>$150.000</td>\n",
       "      <td>No, el voto no es secreto</td>\n",
       "      <td>No</td>\n",
       "      <td></td>\n",
       "      <td>1.095778</td>\n",
       "      <td>1552.986910</td>\n",
       "      <td>1543.770020</td>\n",
       "    </tr>\n",
       "    <tr>\n",
       "      <th>1</th>\n",
       "      <td>3</td>\n",
       "      <td>Urbano</td>\n",
       "      <td>111001</td>\n",
       "      <td>11100101</td>\n",
       "      <td>1</td>\n",
       "      <td>1.110010e+09</td>\n",
       "      <td>1</td>\n",
       "      <td>6</td>\n",
       "      <td>NaN</td>\n",
       "      <td>NaN</td>\n",
       "      <td>...</td>\n",
       "      <td>NaN</td>\n",
       "      <td></td>\n",
       "      <td>NaN</td>\n",
       "      <td></td>\n",
       "      <td>NaN</td>\n",
       "      <td>NaN</td>\n",
       "      <td></td>\n",
       "      <td>NaN</td>\n",
       "      <td>NaN</td>\n",
       "      <td>1543.770020</td>\n",
       "    </tr>\n",
       "    <tr>\n",
       "      <th>2</th>\n",
       "      <td>3</td>\n",
       "      <td>Urbano</td>\n",
       "      <td>111001</td>\n",
       "      <td>11100101</td>\n",
       "      <td>1</td>\n",
       "      <td>1.110010e+09</td>\n",
       "      <td>1</td>\n",
       "      <td>7</td>\n",
       "      <td>NaN</td>\n",
       "      <td>NaN</td>\n",
       "      <td>...</td>\n",
       "      <td>NaN</td>\n",
       "      <td></td>\n",
       "      <td>NaN</td>\n",
       "      <td></td>\n",
       "      <td>NaN</td>\n",
       "      <td>NaN</td>\n",
       "      <td></td>\n",
       "      <td>NaN</td>\n",
       "      <td>NaN</td>\n",
       "      <td>3213.040039</td>\n",
       "    </tr>\n",
       "    <tr>\n",
       "      <th>3</th>\n",
       "      <td>3</td>\n",
       "      <td>Urbano</td>\n",
       "      <td>111001</td>\n",
       "      <td>11100101</td>\n",
       "      <td>1</td>\n",
       "      <td>1.110010e+09</td>\n",
       "      <td>1</td>\n",
       "      <td>8</td>\n",
       "      <td>NaN</td>\n",
       "      <td>NaN</td>\n",
       "      <td>...</td>\n",
       "      <td>NaN</td>\n",
       "      <td></td>\n",
       "      <td>NaN</td>\n",
       "      <td></td>\n",
       "      <td>NaN</td>\n",
       "      <td>NaN</td>\n",
       "      <td></td>\n",
       "      <td>NaN</td>\n",
       "      <td>NaN</td>\n",
       "      <td>3175.810059</td>\n",
       "    </tr>\n",
       "    <tr>\n",
       "      <th>4</th>\n",
       "      <td>3</td>\n",
       "      <td>Urbano</td>\n",
       "      <td>111003</td>\n",
       "      <td>11100305</td>\n",
       "      <td>5</td>\n",
       "      <td>1.110031e+09</td>\n",
       "      <td>1</td>\n",
       "      <td>1</td>\n",
       "      <td>Si</td>\n",
       "      <td>11100301.0</td>\n",
       "      <td>...</td>\n",
       "      <td>NaN</td>\n",
       "      <td></td>\n",
       "      <td>Sí</td>\n",
       "      <td>$30.000</td>\n",
       "      <td>Si, el voto es secreto</td>\n",
       "      <td>No</td>\n",
       "      <td>MOVIMIENTO SIGNIFICATIVO DE CIUDADANOS PROGRES...</td>\n",
       "      <td>1.095778</td>\n",
       "      <td>1552.986910</td>\n",
       "      <td>NaN</td>\n",
       "    </tr>\n",
       "    <tr>\n",
       "      <th>5</th>\n",
       "      <td>3</td>\n",
       "      <td>Urbano</td>\n",
       "      <td>111003</td>\n",
       "      <td>11100305</td>\n",
       "      <td>5</td>\n",
       "      <td>1.110031e+09</td>\n",
       "      <td>1</td>\n",
       "      <td>2</td>\n",
       "      <td>No</td>\n",
       "      <td>11100302.0</td>\n",
       "      <td>...</td>\n",
       "      <td>NaN</td>\n",
       "      <td></td>\n",
       "      <td>NaN</td>\n",
       "      <td></td>\n",
       "      <td>NaN</td>\n",
       "      <td>NaN</td>\n",
       "      <td></td>\n",
       "      <td>0.839851</td>\n",
       "      <td>1190.275252</td>\n",
       "      <td>NaN</td>\n",
       "    </tr>\n",
       "  </tbody>\n",
       "</table>\n",
       "<p>6 rows × 645 columns</p>\n",
       "</div>"
      ],
      "text/plain": [
       "   ola    zona  consecutivo     llave  hogar     llave_n16  hogar_n16  orden  \\\n",
       "0    3  Urbano       111001  11100101      1  1.110010e+09          1      1   \n",
       "1    3  Urbano       111001  11100101      1  1.110010e+09          1      6   \n",
       "2    3  Urbano       111001  11100101      1  1.110010e+09          1      7   \n",
       "3    3  Urbano       111001  11100101      1  1.110010e+09          1      8   \n",
       "4    3  Urbano       111003  11100305      5  1.110031e+09          1      1   \n",
       "5    3  Urbano       111003  11100305      5  1.110031e+09          1      2   \n",
       "\n",
       "  seguimiento  llave_ID_lb  ...  acepta_dinero  vr_aleatorio  vende_voto  \\\n",
       "0          Si   11100101.0  ...            NaN                        Sí   \n",
       "1         NaN          NaN  ...            NaN                       NaN   \n",
       "2         NaN          NaN  ...            NaN                       NaN   \n",
       "3         NaN          NaN  ...            NaN                       NaN   \n",
       "4          Si   11100301.0  ...            NaN                        Sí   \n",
       "5          No   11100302.0  ...            NaN                       NaN   \n",
       "\n",
       "   valor_voto               voto_secreto voto_ofrecido  \\\n",
       "0    $150.000  No, el voto no es secreto            No   \n",
       "1                                    NaN           NaN   \n",
       "2                                    NaN           NaN   \n",
       "3                                    NaN           NaN   \n",
       "4     $30.000     Si, el voto es secreto            No   \n",
       "5                                    NaN           NaN   \n",
       "\n",
       "                                         nom_partido  fexpers_2010  \\\n",
       "0                                                         1.095778   \n",
       "1                                                              NaN   \n",
       "2                                                              NaN   \n",
       "3                                                              NaN   \n",
       "4  MOVIMIENTO SIGNIFICATIVO DE CIUDADANOS PROGRES...      1.095778   \n",
       "5                                                         0.839851   \n",
       "\n",
       "    fpers_2010   fpers_2016  \n",
       "0  1552.986910  1543.770020  \n",
       "1          NaN  1543.770020  \n",
       "2          NaN  3213.040039  \n",
       "3          NaN  3175.810059  \n",
       "4  1552.986910          NaN  \n",
       "5  1190.275252          NaN  \n",
       "\n",
       "[6 rows x 645 columns]"
      ]
     },
     "execution_count": 5,
     "metadata": {},
     "output_type": "execute_result"
    }
   ],
   "source": [
    "Upersonas.head(6)"
   ]
  },
  {
   "cell_type": "code",
   "execution_count": 6,
   "metadata": {},
   "outputs": [
    {
     "data": {
      "text/html": [
       "<div>\n",
       "<style scoped>\n",
       "    .dataframe tbody tr th:only-of-type {\n",
       "        vertical-align: middle;\n",
       "    }\n",
       "\n",
       "    .dataframe tbody tr th {\n",
       "        vertical-align: top;\n",
       "    }\n",
       "\n",
       "    .dataframe thead th {\n",
       "        text-align: right;\n",
       "    }\n",
       "</style>\n",
       "<table border=\"1\" class=\"dataframe\">\n",
       "  <thead>\n",
       "    <tr style=\"text-align: right;\">\n",
       "      <th></th>\n",
       "      <th>ola</th>\n",
       "      <th>RegionLb</th>\n",
       "      <th>zona_2010</th>\n",
       "      <th>id_dpto</th>\n",
       "      <th>id_mpio</th>\n",
       "      <th>zona_2016</th>\n",
       "      <th>consecutivo_c</th>\n",
       "      <th>consecutivo</th>\n",
       "      <th>llave</th>\n",
       "      <th>hogar</th>\n",
       "      <th>...</th>\n",
       "      <th>cuantos_obr</th>\n",
       "      <th>meses_obrero</th>\n",
       "      <th>vr_obrero</th>\n",
       "      <th>relacion_predio</th>\n",
       "      <th>relacion_cual</th>\n",
       "      <th>fhog_2010</th>\n",
       "      <th>fexhog_2010</th>\n",
       "      <th>riqueza_pca</th>\n",
       "      <th>tercil2016</th>\n",
       "      <th>fhog_2016</th>\n",
       "    </tr>\n",
       "  </thead>\n",
       "  <tbody>\n",
       "    <tr>\n",
       "      <th>0</th>\n",
       "      <td>3</td>\n",
       "      <td>Bogotá</td>\n",
       "      <td>Urbano</td>\n",
       "      <td>21</td>\n",
       "      <td>102.0</td>\n",
       "      <td>Urbano</td>\n",
       "      <td>8888888.0</td>\n",
       "      <td>111001</td>\n",
       "      <td>11100101.0</td>\n",
       "      <td>1.0</td>\n",
       "      <td>...</td>\n",
       "      <td>NaN</td>\n",
       "      <td>NaN</td>\n",
       "      <td>NaN</td>\n",
       "      <td>NaN</td>\n",
       "      <td></td>\n",
       "      <td>1451.944061</td>\n",
       "      <td>0.398601</td>\n",
       "      <td>2.359846</td>\n",
       "      <td>3</td>\n",
       "      <td>1974.060059</td>\n",
       "    </tr>\n",
       "    <tr>\n",
       "      <th>1</th>\n",
       "      <td>3</td>\n",
       "      <td>Bogotá</td>\n",
       "      <td>Urbano</td>\n",
       "      <td>21</td>\n",
       "      <td>102.0</td>\n",
       "      <td>Urbano</td>\n",
       "      <td>11001.0</td>\n",
       "      <td>111003</td>\n",
       "      <td>11100305.0</td>\n",
       "      <td>5.0</td>\n",
       "      <td>...</td>\n",
       "      <td>NaN</td>\n",
       "      <td>NaN</td>\n",
       "      <td>NaN</td>\n",
       "      <td>NaN</td>\n",
       "      <td></td>\n",
       "      <td>1451.944061</td>\n",
       "      <td>0.398601</td>\n",
       "      <td>1.907835</td>\n",
       "      <td>3</td>\n",
       "      <td>2666.669922</td>\n",
       "    </tr>\n",
       "    <tr>\n",
       "      <th>2</th>\n",
       "      <td>3</td>\n",
       "      <td>Bogotá</td>\n",
       "      <td>Urbano</td>\n",
       "      <td>21</td>\n",
       "      <td>102.0</td>\n",
       "      <td>Urbano</td>\n",
       "      <td>11002.0</td>\n",
       "      <td>111004</td>\n",
       "      <td>11100402.0</td>\n",
       "      <td>2.0</td>\n",
       "      <td>...</td>\n",
       "      <td>NaN</td>\n",
       "      <td>NaN</td>\n",
       "      <td>NaN</td>\n",
       "      <td>NaN</td>\n",
       "      <td></td>\n",
       "      <td>1451.944061</td>\n",
       "      <td>0.425398</td>\n",
       "      <td>0.063195</td>\n",
       "      <td>2</td>\n",
       "      <td>2666.669922</td>\n",
       "    </tr>\n",
       "    <tr>\n",
       "      <th>3</th>\n",
       "      <td>3</td>\n",
       "      <td>Bogotá</td>\n",
       "      <td>Urbano</td>\n",
       "      <td>21</td>\n",
       "      <td>102.0</td>\n",
       "      <td>Urbano</td>\n",
       "      <td>8888888.0</td>\n",
       "      <td>111006</td>\n",
       "      <td>11100601.0</td>\n",
       "      <td>1.0</td>\n",
       "      <td>...</td>\n",
       "      <td>NaN</td>\n",
       "      <td>NaN</td>\n",
       "      <td>NaN</td>\n",
       "      <td>NaN</td>\n",
       "      <td></td>\n",
       "      <td>1451.944061</td>\n",
       "      <td>0.398601</td>\n",
       "      <td>0.525653</td>\n",
       "      <td>2</td>\n",
       "      <td>2666.669922</td>\n",
       "    </tr>\n",
       "    <tr>\n",
       "      <th>4</th>\n",
       "      <td>3</td>\n",
       "      <td>Bogotá</td>\n",
       "      <td>Urbano</td>\n",
       "      <td>21</td>\n",
       "      <td>102.0</td>\n",
       "      <td>Urbano</td>\n",
       "      <td>11004.0</td>\n",
       "      <td>111009</td>\n",
       "      <td>11100901.0</td>\n",
       "      <td>1.0</td>\n",
       "      <td>...</td>\n",
       "      <td>NaN</td>\n",
       "      <td>NaN</td>\n",
       "      <td>NaN</td>\n",
       "      <td>NaN</td>\n",
       "      <td></td>\n",
       "      <td>483.981318</td>\n",
       "      <td>0.398601</td>\n",
       "      <td>-0.257150</td>\n",
       "      <td>2</td>\n",
       "      <td>888.890015</td>\n",
       "    </tr>\n",
       "    <tr>\n",
       "      <th>5</th>\n",
       "      <td>3</td>\n",
       "      <td>Bogotá</td>\n",
       "      <td>Urbano</td>\n",
       "      <td>21</td>\n",
       "      <td>102.0</td>\n",
       "      <td>Urbano</td>\n",
       "      <td>11003.0</td>\n",
       "      <td>111010</td>\n",
       "      <td>11101001.0</td>\n",
       "      <td>1.0</td>\n",
       "      <td>...</td>\n",
       "      <td>NaN</td>\n",
       "      <td>NaN</td>\n",
       "      <td>NaN</td>\n",
       "      <td>NaN</td>\n",
       "      <td></td>\n",
       "      <td>483.981318</td>\n",
       "      <td>0.850796</td>\n",
       "      <td>0.043374</td>\n",
       "      <td>2</td>\n",
       "      <td>888.890015</td>\n",
       "    </tr>\n",
       "  </tbody>\n",
       "</table>\n",
       "<p>6 rows × 395 columns</p>\n",
       "</div>"
      ],
      "text/plain": [
       "   ola RegionLb zona_2010  id_dpto  id_mpio zona_2016  consecutivo_c  \\\n",
       "0    3   Bogotá    Urbano       21    102.0    Urbano      8888888.0   \n",
       "1    3   Bogotá    Urbano       21    102.0    Urbano        11001.0   \n",
       "2    3   Bogotá    Urbano       21    102.0    Urbano        11002.0   \n",
       "3    3   Bogotá    Urbano       21    102.0    Urbano      8888888.0   \n",
       "4    3   Bogotá    Urbano       21    102.0    Urbano        11004.0   \n",
       "5    3   Bogotá    Urbano       21    102.0    Urbano        11003.0   \n",
       "\n",
       "   consecutivo       llave  hogar  ...  cuantos_obr  meses_obrero vr_obrero  \\\n",
       "0       111001  11100101.0    1.0  ...          NaN           NaN       NaN   \n",
       "1       111003  11100305.0    5.0  ...          NaN           NaN       NaN   \n",
       "2       111004  11100402.0    2.0  ...          NaN           NaN       NaN   \n",
       "3       111006  11100601.0    1.0  ...          NaN           NaN       NaN   \n",
       "4       111009  11100901.0    1.0  ...          NaN           NaN       NaN   \n",
       "5       111010  11101001.0    1.0  ...          NaN           NaN       NaN   \n",
       "\n",
       "   relacion_predio relacion_cual    fhog_2010  fexhog_2010 riqueza_pca  \\\n",
       "0              NaN                1451.944061     0.398601    2.359846   \n",
       "1              NaN                1451.944061     0.398601    1.907835   \n",
       "2              NaN                1451.944061     0.425398    0.063195   \n",
       "3              NaN                1451.944061     0.398601    0.525653   \n",
       "4              NaN                 483.981318     0.398601   -0.257150   \n",
       "5              NaN                 483.981318     0.850796    0.043374   \n",
       "\n",
       "  tercil2016    fhog_2016  \n",
       "0          3  1974.060059  \n",
       "1          3  2666.669922  \n",
       "2          2  2666.669922  \n",
       "3          2  2666.669922  \n",
       "4          2   888.890015  \n",
       "5          2   888.890015  \n",
       "\n",
       "[6 rows x 395 columns]"
      ]
     },
     "execution_count": 6,
     "metadata": {},
     "output_type": "execute_result"
    }
   ],
   "source": [
    "Uhogar.head(6)"
   ]
  },
  {
   "cell_type": "markdown",
   "metadata": {},
   "source": [
    "### Uniones horizontales internas (inner joins) de las bases Rural y Urbana\n",
    "Inner porque nos interesan las observaciones que se encuentran en ambas bases, tanto personas como hogares.\n",
    "\n",
    "llave_n16 es sólo la llave que une personas con hogares para 2016. Eso indica el diccionario de la base."
   ]
  },
  {
   "cell_type": "code",
   "execution_count": 7,
   "metadata": {},
   "outputs": [],
   "source": [
    "Urbano = Upersonas.merge(Uhogar, on='llave_n16')\n",
    "Rural = Rpersonas.merge(Rhogar, on='llave_n16')"
   ]
  },
  {
   "cell_type": "markdown",
   "metadata": {},
   "source": [
    "### Base consolidada agregando verticalmente Rural y Urbano"
   ]
  },
  {
   "cell_type": "code",
   "execution_count": 8,
   "metadata": {},
   "outputs": [],
   "source": [
    "Datos = Rural.append(Urbano)"
   ]
  },
  {
   "cell_type": "code",
   "execution_count": 9,
   "metadata": {},
   "outputs": [
    {
     "data": {
      "text/plain": [
       "(33016, 1347)"
      ]
     },
     "execution_count": 9,
     "metadata": {},
     "output_type": "execute_result"
    }
   ],
   "source": [
    "# Observamos la cantidad de filas y columnas\n",
    "Datos.shape"
   ]
  },
  {
   "cell_type": "markdown",
   "metadata": {},
   "source": [
    "### Visualizamos"
   ]
  },
  {
   "cell_type": "code",
   "execution_count": 10,
   "metadata": {},
   "outputs": [
    {
     "data": {
      "text/html": [
       "<div>\n",
       "<style scoped>\n",
       "    .dataframe tbody tr th:only-of-type {\n",
       "        vertical-align: middle;\n",
       "    }\n",
       "\n",
       "    .dataframe tbody tr th {\n",
       "        vertical-align: top;\n",
       "    }\n",
       "\n",
       "    .dataframe thead th {\n",
       "        text-align: right;\n",
       "    }\n",
       "</style>\n",
       "<table border=\"1\" class=\"dataframe\">\n",
       "  <thead>\n",
       "    <tr style=\"text-align: right;\">\n",
       "      <th></th>\n",
       "      <th>ola_x</th>\n",
       "      <th>consecutivo_x</th>\n",
       "      <th>llave_x</th>\n",
       "      <th>hogar_x</th>\n",
       "      <th>llave_n16</th>\n",
       "      <th>hogar_n16_x</th>\n",
       "      <th>orden</th>\n",
       "      <th>seguimiento</th>\n",
       "      <th>llave_ID_lb</th>\n",
       "      <th>llaveper</th>\n",
       "      <th>...</th>\n",
       "      <th>fechai_mes_11</th>\n",
       "      <th>fechai_ano_11</th>\n",
       "      <th>vr_inicial_11</th>\n",
       "      <th>cuota_11</th>\n",
       "      <th>period_cuota_11</th>\n",
       "      <th>pacto_meses_11</th>\n",
       "      <th>meses_plazo_11</th>\n",
       "      <th>vr_saldo_11</th>\n",
       "      <th>cred_anombre_11</th>\n",
       "      <th>cred_aldia_11</th>\n",
       "    </tr>\n",
       "  </thead>\n",
       "  <tbody>\n",
       "    <tr>\n",
       "      <th>0</th>\n",
       "      <td>3</td>\n",
       "      <td>111207</td>\n",
       "      <td>11120702.0</td>\n",
       "      <td>2.0</td>\n",
       "      <td>1.112070e+09</td>\n",
       "      <td>2</td>\n",
       "      <td>2</td>\n",
       "      <td>Si</td>\n",
       "      <td>11120702.0</td>\n",
       "      <td>1.112070e+09</td>\n",
       "      <td>...</td>\n",
       "      <td>NaN</td>\n",
       "      <td>NaN</td>\n",
       "      <td>NaN</td>\n",
       "      <td>NaN</td>\n",
       "      <td>NaN</td>\n",
       "      <td>NaN</td>\n",
       "      <td>NaN</td>\n",
       "      <td>NaN</td>\n",
       "      <td>NaN</td>\n",
       "      <td>NaN</td>\n",
       "    </tr>\n",
       "    <tr>\n",
       "      <th>1</th>\n",
       "      <td>3</td>\n",
       "      <td>111207</td>\n",
       "      <td>11120702.0</td>\n",
       "      <td>2.0</td>\n",
       "      <td>1.112070e+09</td>\n",
       "      <td>2</td>\n",
       "      <td>5</td>\n",
       "      <td>Si</td>\n",
       "      <td>11120705.0</td>\n",
       "      <td>1.112070e+09</td>\n",
       "      <td>...</td>\n",
       "      <td>NaN</td>\n",
       "      <td>NaN</td>\n",
       "      <td>NaN</td>\n",
       "      <td>NaN</td>\n",
       "      <td>NaN</td>\n",
       "      <td>NaN</td>\n",
       "      <td>NaN</td>\n",
       "      <td>NaN</td>\n",
       "      <td>NaN</td>\n",
       "      <td>NaN</td>\n",
       "    </tr>\n",
       "    <tr>\n",
       "      <th>2</th>\n",
       "      <td>3</td>\n",
       "      <td>114200</td>\n",
       "      <td>11420001.0</td>\n",
       "      <td>1.0</td>\n",
       "      <td>1.142000e+09</td>\n",
       "      <td>1</td>\n",
       "      <td>1</td>\n",
       "      <td>Si</td>\n",
       "      <td>11420001.0</td>\n",
       "      <td>1.142000e+09</td>\n",
       "      <td>...</td>\n",
       "      <td>NaN</td>\n",
       "      <td>NaN</td>\n",
       "      <td>NaN</td>\n",
       "      <td>NaN</td>\n",
       "      <td>NaN</td>\n",
       "      <td>NaN</td>\n",
       "      <td>NaN</td>\n",
       "      <td>NaN</td>\n",
       "      <td>NaN</td>\n",
       "      <td>NaN</td>\n",
       "    </tr>\n",
       "    <tr>\n",
       "      <th>3</th>\n",
       "      <td>3</td>\n",
       "      <td>114200</td>\n",
       "      <td>11420001.0</td>\n",
       "      <td>1.0</td>\n",
       "      <td>1.142000e+09</td>\n",
       "      <td>1</td>\n",
       "      <td>3</td>\n",
       "      <td>NaN</td>\n",
       "      <td>NaN</td>\n",
       "      <td>1.142000e+09</td>\n",
       "      <td>...</td>\n",
       "      <td>NaN</td>\n",
       "      <td>NaN</td>\n",
       "      <td>NaN</td>\n",
       "      <td>NaN</td>\n",
       "      <td>NaN</td>\n",
       "      <td>NaN</td>\n",
       "      <td>NaN</td>\n",
       "      <td>NaN</td>\n",
       "      <td>NaN</td>\n",
       "      <td>NaN</td>\n",
       "    </tr>\n",
       "    <tr>\n",
       "      <th>4</th>\n",
       "      <td>3</td>\n",
       "      <td>114200</td>\n",
       "      <td>NaN</td>\n",
       "      <td>NaN</td>\n",
       "      <td>1.142000e+09</td>\n",
       "      <td>1</td>\n",
       "      <td>4</td>\n",
       "      <td>NaN</td>\n",
       "      <td>NaN</td>\n",
       "      <td>NaN</td>\n",
       "      <td>...</td>\n",
       "      <td>NaN</td>\n",
       "      <td>NaN</td>\n",
       "      <td>NaN</td>\n",
       "      <td>NaN</td>\n",
       "      <td>NaN</td>\n",
       "      <td>NaN</td>\n",
       "      <td>NaN</td>\n",
       "      <td>NaN</td>\n",
       "      <td>NaN</td>\n",
       "      <td>NaN</td>\n",
       "    </tr>\n",
       "    <tr>\n",
       "      <th>5</th>\n",
       "      <td>3</td>\n",
       "      <td>114220</td>\n",
       "      <td>NaN</td>\n",
       "      <td>NaN</td>\n",
       "      <td>1.142201e+09</td>\n",
       "      <td>7</td>\n",
       "      <td>7</td>\n",
       "      <td>No</td>\n",
       "      <td>11422007.0</td>\n",
       "      <td>NaN</td>\n",
       "      <td>...</td>\n",
       "      <td>NaN</td>\n",
       "      <td>NaN</td>\n",
       "      <td>NaN</td>\n",
       "      <td>NaN</td>\n",
       "      <td>NaN</td>\n",
       "      <td>NaN</td>\n",
       "      <td>NaN</td>\n",
       "      <td>NaN</td>\n",
       "      <td>NaN</td>\n",
       "      <td>NaN</td>\n",
       "    </tr>\n",
       "    <tr>\n",
       "      <th>6</th>\n",
       "      <td>3</td>\n",
       "      <td>114220</td>\n",
       "      <td>NaN</td>\n",
       "      <td>NaN</td>\n",
       "      <td>1.142201e+09</td>\n",
       "      <td>7</td>\n",
       "      <td>8</td>\n",
       "      <td>NaN</td>\n",
       "      <td>NaN</td>\n",
       "      <td>NaN</td>\n",
       "      <td>...</td>\n",
       "      <td>NaN</td>\n",
       "      <td>NaN</td>\n",
       "      <td>NaN</td>\n",
       "      <td>NaN</td>\n",
       "      <td>NaN</td>\n",
       "      <td>NaN</td>\n",
       "      <td>NaN</td>\n",
       "      <td>NaN</td>\n",
       "      <td>NaN</td>\n",
       "      <td>NaN</td>\n",
       "    </tr>\n",
       "    <tr>\n",
       "      <th>7</th>\n",
       "      <td>3</td>\n",
       "      <td>114220</td>\n",
       "      <td>NaN</td>\n",
       "      <td>NaN</td>\n",
       "      <td>1.142201e+09</td>\n",
       "      <td>7</td>\n",
       "      <td>9</td>\n",
       "      <td>NaN</td>\n",
       "      <td>NaN</td>\n",
       "      <td>NaN</td>\n",
       "      <td>...</td>\n",
       "      <td>NaN</td>\n",
       "      <td>NaN</td>\n",
       "      <td>NaN</td>\n",
       "      <td>NaN</td>\n",
       "      <td>NaN</td>\n",
       "      <td>NaN</td>\n",
       "      <td>NaN</td>\n",
       "      <td>NaN</td>\n",
       "      <td>NaN</td>\n",
       "      <td>NaN</td>\n",
       "    </tr>\n",
       "    <tr>\n",
       "      <th>8</th>\n",
       "      <td>3</td>\n",
       "      <td>115655</td>\n",
       "      <td>11565501.0</td>\n",
       "      <td>1.0</td>\n",
       "      <td>1.156550e+09</td>\n",
       "      <td>1</td>\n",
       "      <td>1</td>\n",
       "      <td>Si</td>\n",
       "      <td>11565501.0</td>\n",
       "      <td>1.156550e+09</td>\n",
       "      <td>...</td>\n",
       "      <td>NaN</td>\n",
       "      <td>NaN</td>\n",
       "      <td>NaN</td>\n",
       "      <td>NaN</td>\n",
       "      <td>NaN</td>\n",
       "      <td>NaN</td>\n",
       "      <td>NaN</td>\n",
       "      <td>NaN</td>\n",
       "      <td>NaN</td>\n",
       "      <td>NaN</td>\n",
       "    </tr>\n",
       "    <tr>\n",
       "      <th>9</th>\n",
       "      <td>3</td>\n",
       "      <td>115655</td>\n",
       "      <td>11565501.0</td>\n",
       "      <td>1.0</td>\n",
       "      <td>1.156550e+09</td>\n",
       "      <td>1</td>\n",
       "      <td>4</td>\n",
       "      <td>NaN</td>\n",
       "      <td>NaN</td>\n",
       "      <td>1.156550e+09</td>\n",
       "      <td>...</td>\n",
       "      <td>NaN</td>\n",
       "      <td>NaN</td>\n",
       "      <td>NaN</td>\n",
       "      <td>NaN</td>\n",
       "      <td>NaN</td>\n",
       "      <td>NaN</td>\n",
       "      <td>NaN</td>\n",
       "      <td>NaN</td>\n",
       "      <td>NaN</td>\n",
       "      <td>NaN</td>\n",
       "    </tr>\n",
       "  </tbody>\n",
       "</table>\n",
       "<p>10 rows × 1347 columns</p>\n",
       "</div>"
      ],
      "text/plain": [
       "   ola_x  consecutivo_x     llave_x  hogar_x     llave_n16  hogar_n16_x  \\\n",
       "0      3         111207  11120702.0      2.0  1.112070e+09            2   \n",
       "1      3         111207  11120702.0      2.0  1.112070e+09            2   \n",
       "2      3         114200  11420001.0      1.0  1.142000e+09            1   \n",
       "3      3         114200  11420001.0      1.0  1.142000e+09            1   \n",
       "4      3         114200         NaN      NaN  1.142000e+09            1   \n",
       "5      3         114220         NaN      NaN  1.142201e+09            7   \n",
       "6      3         114220         NaN      NaN  1.142201e+09            7   \n",
       "7      3         114220         NaN      NaN  1.142201e+09            7   \n",
       "8      3         115655  11565501.0      1.0  1.156550e+09            1   \n",
       "9      3         115655  11565501.0      1.0  1.156550e+09            1   \n",
       "\n",
       "   orden seguimiento  llave_ID_lb      llaveper  ...  fechai_mes_11  \\\n",
       "0      2          Si   11120702.0  1.112070e+09  ...            NaN   \n",
       "1      5          Si   11120705.0  1.112070e+09  ...            NaN   \n",
       "2      1          Si   11420001.0  1.142000e+09  ...            NaN   \n",
       "3      3         NaN          NaN  1.142000e+09  ...            NaN   \n",
       "4      4         NaN          NaN           NaN  ...            NaN   \n",
       "5      7          No   11422007.0           NaN  ...            NaN   \n",
       "6      8         NaN          NaN           NaN  ...            NaN   \n",
       "7      9         NaN          NaN           NaN  ...            NaN   \n",
       "8      1          Si   11565501.0  1.156550e+09  ...            NaN   \n",
       "9      4         NaN          NaN  1.156550e+09  ...            NaN   \n",
       "\n",
       "   fechai_ano_11  vr_inicial_11  cuota_11 period_cuota_11 pacto_meses_11  \\\n",
       "0            NaN            NaN       NaN             NaN            NaN   \n",
       "1            NaN            NaN       NaN             NaN            NaN   \n",
       "2            NaN            NaN       NaN             NaN            NaN   \n",
       "3            NaN            NaN       NaN             NaN            NaN   \n",
       "4            NaN            NaN       NaN             NaN            NaN   \n",
       "5            NaN            NaN       NaN             NaN            NaN   \n",
       "6            NaN            NaN       NaN             NaN            NaN   \n",
       "7            NaN            NaN       NaN             NaN            NaN   \n",
       "8            NaN            NaN       NaN             NaN            NaN   \n",
       "9            NaN            NaN       NaN             NaN            NaN   \n",
       "\n",
       "   meses_plazo_11 vr_saldo_11  cred_anombre_11  cred_aldia_11  \n",
       "0             NaN         NaN              NaN            NaN  \n",
       "1             NaN         NaN              NaN            NaN  \n",
       "2             NaN         NaN              NaN            NaN  \n",
       "3             NaN         NaN              NaN            NaN  \n",
       "4             NaN         NaN              NaN            NaN  \n",
       "5             NaN         NaN              NaN            NaN  \n",
       "6             NaN         NaN              NaN            NaN  \n",
       "7             NaN         NaN              NaN            NaN  \n",
       "8             NaN         NaN              NaN            NaN  \n",
       "9             NaN         NaN              NaN            NaN  \n",
       "\n",
       "[10 rows x 1347 columns]"
      ]
     },
     "execution_count": 10,
     "metadata": {},
     "output_type": "execute_result"
    }
   ],
   "source": [
    "Datos.head(10)"
   ]
  },
  {
   "cell_type": "markdown",
   "metadata": {},
   "source": [
    "### Dejar las variables importantes"
   ]
  },
  {
   "cell_type": "code",
   "execution_count": 11,
   "metadata": {},
   "outputs": [],
   "source": [
    "Datos = Datos.rename(columns={'sexo': 'mujer'})"
   ]
  },
  {
   "cell_type": "code",
   "execution_count": 12,
   "metadata": {},
   "outputs": [],
   "source": [
    "columnas = ['hoy_fuma', 'come_paquete', 'come_fritos', 'hospital_veces', 'ehace_deporte', 'zona', 'edad', 'mujer', 'hijos_vivos', 'sp_estrato', 't_personas', 'tercil2016', 'ha_fumado', 'dias_noasistio', 'afiliacion']\n",
    "Datos = Datos[columnas]"
   ]
  },
  {
   "cell_type": "markdown",
   "metadata": {},
   "source": [
    "### Revisamos finalmente la base consolidada"
   ]
  },
  {
   "cell_type": "code",
   "execution_count": 13,
   "metadata": {},
   "outputs": [
    {
     "data": {
      "text/html": [
       "<div>\n",
       "<style scoped>\n",
       "    .dataframe tbody tr th:only-of-type {\n",
       "        vertical-align: middle;\n",
       "    }\n",
       "\n",
       "    .dataframe tbody tr th {\n",
       "        vertical-align: top;\n",
       "    }\n",
       "\n",
       "    .dataframe thead th {\n",
       "        text-align: right;\n",
       "    }\n",
       "</style>\n",
       "<table border=\"1\" class=\"dataframe\">\n",
       "  <thead>\n",
       "    <tr style=\"text-align: right;\">\n",
       "      <th></th>\n",
       "      <th>hoy_fuma</th>\n",
       "      <th>come_paquete</th>\n",
       "      <th>come_fritos</th>\n",
       "      <th>hospital_veces</th>\n",
       "      <th>ehace_deporte</th>\n",
       "      <th>zona</th>\n",
       "      <th>edad</th>\n",
       "      <th>mujer</th>\n",
       "      <th>hijos_vivos</th>\n",
       "      <th>sp_estrato</th>\n",
       "      <th>t_personas</th>\n",
       "      <th>tercil2016</th>\n",
       "      <th>ha_fumado</th>\n",
       "      <th>dias_noasistio</th>\n",
       "      <th>afiliacion</th>\n",
       "    </tr>\n",
       "  </thead>\n",
       "  <tbody>\n",
       "    <tr>\n",
       "      <th>0</th>\n",
       "      <td>NaN</td>\n",
       "      <td>No</td>\n",
       "      <td>Sí</td>\n",
       "      <td>NaN</td>\n",
       "      <td>NaN</td>\n",
       "      <td>NaN</td>\n",
       "      <td>36</td>\n",
       "      <td>MUJER</td>\n",
       "      <td>Sí</td>\n",
       "      <td>1</td>\n",
       "      <td>2</td>\n",
       "      <td>1</td>\n",
       "      <td>No</td>\n",
       "      <td>NaN</td>\n",
       "      <td>Sí</td>\n",
       "    </tr>\n",
       "    <tr>\n",
       "      <th>1</th>\n",
       "      <td>NaN</td>\n",
       "      <td>NaN</td>\n",
       "      <td>NaN</td>\n",
       "      <td>NaN</td>\n",
       "      <td>NaN</td>\n",
       "      <td>NaN</td>\n",
       "      <td>8</td>\n",
       "      <td>MUJER</td>\n",
       "      <td>NaN</td>\n",
       "      <td>1</td>\n",
       "      <td>2</td>\n",
       "      <td>1</td>\n",
       "      <td>NaN</td>\n",
       "      <td>NaN</td>\n",
       "      <td>NaN</td>\n",
       "    </tr>\n",
       "    <tr>\n",
       "      <th>2</th>\n",
       "      <td>Todos los días</td>\n",
       "      <td>No</td>\n",
       "      <td>Sí</td>\n",
       "      <td>NaN</td>\n",
       "      <td>NaN</td>\n",
       "      <td>NaN</td>\n",
       "      <td>48</td>\n",
       "      <td>MUJER</td>\n",
       "      <td>Sí</td>\n",
       "      <td>1</td>\n",
       "      <td>3</td>\n",
       "      <td>1</td>\n",
       "      <td>Sí</td>\n",
       "      <td>10.0</td>\n",
       "      <td>No</td>\n",
       "    </tr>\n",
       "    <tr>\n",
       "      <th>3</th>\n",
       "      <td>NaN</td>\n",
       "      <td>NaN</td>\n",
       "      <td>NaN</td>\n",
       "      <td>NaN</td>\n",
       "      <td>NaN</td>\n",
       "      <td>NaN</td>\n",
       "      <td>4</td>\n",
       "      <td>HOMBRE</td>\n",
       "      <td>NaN</td>\n",
       "      <td>1</td>\n",
       "      <td>3</td>\n",
       "      <td>1</td>\n",
       "      <td>NaN</td>\n",
       "      <td>NaN</td>\n",
       "      <td>Sí</td>\n",
       "    </tr>\n",
       "    <tr>\n",
       "      <th>4</th>\n",
       "      <td>NaN</td>\n",
       "      <td>NaN</td>\n",
       "      <td>NaN</td>\n",
       "      <td>NaN</td>\n",
       "      <td>NaN</td>\n",
       "      <td>NaN</td>\n",
       "      <td>20</td>\n",
       "      <td>HOMBRE</td>\n",
       "      <td>NaN</td>\n",
       "      <td>1</td>\n",
       "      <td>3</td>\n",
       "      <td>1</td>\n",
       "      <td>NaN</td>\n",
       "      <td>NaN</td>\n",
       "      <td>Sí</td>\n",
       "    </tr>\n",
       "  </tbody>\n",
       "</table>\n",
       "</div>"
      ],
      "text/plain": [
       "         hoy_fuma come_paquete come_fritos  hospital_veces ehace_deporte zona  \\\n",
       "0             NaN           No          Sí             NaN           NaN  NaN   \n",
       "1             NaN          NaN         NaN             NaN           NaN  NaN   \n",
       "2  Todos los días           No          Sí             NaN           NaN  NaN   \n",
       "3             NaN          NaN         NaN             NaN           NaN  NaN   \n",
       "4             NaN          NaN         NaN             NaN           NaN  NaN   \n",
       "\n",
       "   edad   mujer hijos_vivos  sp_estrato  t_personas  tercil2016 ha_fumado  \\\n",
       "0    36   MUJER          Sí           1           2           1        No   \n",
       "1     8   MUJER         NaN           1           2           1       NaN   \n",
       "2    48   MUJER          Sí           1           3           1        Sí   \n",
       "3     4  HOMBRE         NaN           1           3           1       NaN   \n",
       "4    20  HOMBRE         NaN           1           3           1       NaN   \n",
       "\n",
       "   dias_noasistio afiliacion  \n",
       "0             NaN         Sí  \n",
       "1             NaN        NaN  \n",
       "2            10.0         No  \n",
       "3             NaN         Sí  \n",
       "4             NaN         Sí  "
      ]
     },
     "execution_count": 13,
     "metadata": {},
     "output_type": "execute_result"
    }
   ],
   "source": [
    "Datos.head()"
   ]
  },
  {
   "cell_type": "code",
   "execution_count": 14,
   "metadata": {},
   "outputs": [
    {
     "data": {
      "text/plain": [
       "(33016, 15)"
      ]
     },
     "execution_count": 14,
     "metadata": {},
     "output_type": "execute_result"
    }
   ],
   "source": [
    "Datos.shape"
   ]
  },
  {
   "cell_type": "code",
   "execution_count": 15,
   "metadata": {},
   "outputs": [
    {
     "data": {
      "text/plain": [
       "hoy_fuma          category\n",
       "come_paquete      category\n",
       "come_fritos       category\n",
       "hospital_veces     float64\n",
       "ehace_deporte     category\n",
       "zona                object\n",
       "edad                 int16\n",
       "mujer               object\n",
       "hijos_vivos       category\n",
       "sp_estrato            int8\n",
       "t_personas            int8\n",
       "tercil2016            int8\n",
       "ha_fumado         category\n",
       "dias_noasistio     float64\n",
       "afiliacion        category\n",
       "dtype: object"
      ]
     },
     "execution_count": 15,
     "metadata": {},
     "output_type": "execute_result"
    }
   ],
   "source": [
    "Datos.dtypes"
   ]
  },
  {
   "cell_type": "markdown",
   "metadata": {},
   "source": [
    "## 2. Editar variables"
   ]
  },
  {
   "cell_type": "markdown",
   "metadata": {},
   "source": [
    "### Codificar valores"
   ]
  },
  {
   "cell_type": "markdown",
   "metadata": {},
   "source": [
    "Primero construimos la columna completamente numérica"
   ]
  },
  {
   "cell_type": "code",
   "execution_count": 16,
   "metadata": {},
   "outputs": [],
   "source": [
    "# Una columna de verdaderos y falsos donde se cumple la condición: zona es missing value\n",
    "seleccionDeFilas = Datos['zona'].isnull()\n",
    "# Indicamos como Rural las filas donde se cumple la selección\n",
    "Datos.loc[seleccionDeFilas, 'zona'] = 0"
   ]
  },
  {
   "cell_type": "code",
   "execution_count": 17,
   "metadata": {},
   "outputs": [],
   "source": [
    "# Una columna de verdaderos y falsos donde se cumple la condición: zona es missing value\n",
    "seleccionDeFilas = (Datos['zona']=='Urbano')\n",
    "# Indicamos como Rural las filas donde se cumple la selección\n",
    "Datos.loc[seleccionDeFilas, 'zona'] = 1"
   ]
  },
  {
   "cell_type": "markdown",
   "metadata": {},
   "source": [
    "**Tenemos:** los siguientes valores"
   ]
  },
  {
   "cell_type": "code",
   "execution_count": 20,
   "metadata": {},
   "outputs": [
    {
     "data": {
      "text/plain": [
       "1    16601\n",
       "0    16415\n",
       "Name: zona, dtype: int64"
      ]
     },
     "execution_count": 20,
     "metadata": {},
     "output_type": "execute_result"
    }
   ],
   "source": [
    "Datos['zona'].value_counts()"
   ]
  },
  {
   "cell_type": "markdown",
   "metadata": {},
   "source": [
    "*********\n",
    "**Note:** En Pandas sólo es necesario asignar el tipo categórico a la columna y así la base tendrá menor tamaño y las operaciones ocurrirán con mayor velocidad. Ahora mismo, zona no es categórica.\n",
    "*********"
   ]
  },
  {
   "cell_type": "code",
   "execution_count": 21,
   "metadata": {},
   "outputs": [
    {
     "data": {
      "text/plain": [
       "hoy_fuma          category\n",
       "come_paquete      category\n",
       "come_fritos       category\n",
       "hospital_veces     float64\n",
       "ehace_deporte     category\n",
       "zona                object\n",
       "edad                 int16\n",
       "mujer               object\n",
       "hijos_vivos       category\n",
       "sp_estrato            int8\n",
       "t_personas            int8\n",
       "tercil2016            int8\n",
       "ha_fumado         category\n",
       "dias_noasistio     float64\n",
       "afiliacion        category\n",
       "dtype: object"
      ]
     },
     "execution_count": 21,
     "metadata": {},
     "output_type": "execute_result"
    }
   ],
   "source": [
    "Datos.dtypes"
   ]
  },
  {
   "cell_type": "markdown",
   "metadata": {},
   "source": [
    "**Así que:** la asignamos categórica y generamos un diccionario"
   ]
  },
  {
   "cell_type": "code",
   "execution_count": 22,
   "metadata": {},
   "outputs": [
    {
     "name": "stdout",
     "output_type": "stream",
     "text": [
      "{0: 0, 1: 1}\n"
     ]
    }
   ],
   "source": [
    "Datos[\"zona\"] = Datos[\"zona\"].astype('category')\n",
    "label_zona = dict(enumerate(Datos['zona'].cat.categories))\n",
    "print(label_zona)"
   ]
  },
  {
   "cell_type": "markdown",
   "metadata": {},
   "source": [
    "**Luego:** podemos editar ese diccionario como nos parezca mejor"
   ]
  },
  {
   "cell_type": "code",
   "execution_count": 23,
   "metadata": {},
   "outputs": [
    {
     "data": {
      "text/plain": [
       "{0: 'Rural', 1: 'Urbano'}"
      ]
     },
     "execution_count": 23,
     "metadata": {},
     "output_type": "execute_result"
    }
   ],
   "source": [
    "label_zona = {0: 'Rural', 1: 'Urbano'}\n",
    "label_zona"
   ]
  },
  {
   "cell_type": "markdown",
   "metadata": {},
   "source": [
    "### Así, para ir de números a etiquetas:"
   ]
  },
  {
   "cell_type": "code",
   "execution_count": 24,
   "metadata": {},
   "outputs": [],
   "source": [
    "Datos['zona_cat'] = Datos['zona'].map(label_zona)\n",
    "Datos[\"zona_cat\"] = Datos[\"zona_cat\"].astype('category')"
   ]
  },
  {
   "cell_type": "code",
   "execution_count": 25,
   "metadata": {},
   "outputs": [
    {
     "data": {
      "text/html": [
       "<div>\n",
       "<style scoped>\n",
       "    .dataframe tbody tr th:only-of-type {\n",
       "        vertical-align: middle;\n",
       "    }\n",
       "\n",
       "    .dataframe tbody tr th {\n",
       "        vertical-align: top;\n",
       "    }\n",
       "\n",
       "    .dataframe thead th {\n",
       "        text-align: right;\n",
       "    }\n",
       "</style>\n",
       "<table border=\"1\" class=\"dataframe\">\n",
       "  <thead>\n",
       "    <tr style=\"text-align: right;\">\n",
       "      <th></th>\n",
       "      <th>zona</th>\n",
       "      <th>zona_cat</th>\n",
       "    </tr>\n",
       "  </thead>\n",
       "  <tbody>\n",
       "    <tr>\n",
       "      <th>0</th>\n",
       "      <td>0</td>\n",
       "      <td>Rural</td>\n",
       "    </tr>\n",
       "    <tr>\n",
       "      <th>1</th>\n",
       "      <td>0</td>\n",
       "      <td>Rural</td>\n",
       "    </tr>\n",
       "    <tr>\n",
       "      <th>2</th>\n",
       "      <td>0</td>\n",
       "      <td>Rural</td>\n",
       "    </tr>\n",
       "    <tr>\n",
       "      <th>3</th>\n",
       "      <td>0</td>\n",
       "      <td>Rural</td>\n",
       "    </tr>\n",
       "    <tr>\n",
       "      <th>4</th>\n",
       "      <td>0</td>\n",
       "      <td>Rural</td>\n",
       "    </tr>\n",
       "    <tr>\n",
       "      <th>...</th>\n",
       "      <td>...</td>\n",
       "      <td>...</td>\n",
       "    </tr>\n",
       "    <tr>\n",
       "      <th>16596</th>\n",
       "      <td>1</td>\n",
       "      <td>Urbano</td>\n",
       "    </tr>\n",
       "    <tr>\n",
       "      <th>16597</th>\n",
       "      <td>1</td>\n",
       "      <td>Urbano</td>\n",
       "    </tr>\n",
       "    <tr>\n",
       "      <th>16598</th>\n",
       "      <td>1</td>\n",
       "      <td>Urbano</td>\n",
       "    </tr>\n",
       "    <tr>\n",
       "      <th>16599</th>\n",
       "      <td>1</td>\n",
       "      <td>Urbano</td>\n",
       "    </tr>\n",
       "    <tr>\n",
       "      <th>16600</th>\n",
       "      <td>1</td>\n",
       "      <td>Urbano</td>\n",
       "    </tr>\n",
       "  </tbody>\n",
       "</table>\n",
       "<p>33016 rows × 2 columns</p>\n",
       "</div>"
      ],
      "text/plain": [
       "      zona zona_cat\n",
       "0        0    Rural\n",
       "1        0    Rural\n",
       "2        0    Rural\n",
       "3        0    Rural\n",
       "4        0    Rural\n",
       "...    ...      ...\n",
       "16596    1   Urbano\n",
       "16597    1   Urbano\n",
       "16598    1   Urbano\n",
       "16599    1   Urbano\n",
       "16600    1   Urbano\n",
       "\n",
       "[33016 rows x 2 columns]"
      ]
     },
     "execution_count": 25,
     "metadata": {},
     "output_type": "execute_result"
    }
   ],
   "source": [
    "Datos[['zona', 'zona_cat']]"
   ]
  },
  {
   "cell_type": "markdown",
   "metadata": {},
   "source": [
    "**Note que las dos son categóricas**"
   ]
  },
  {
   "cell_type": "code",
   "execution_count": 26,
   "metadata": {},
   "outputs": [
    {
     "data": {
      "text/plain": [
       "zona        category\n",
       "zona_cat    category\n",
       "dtype: object"
      ]
     },
     "execution_count": 26,
     "metadata": {},
     "output_type": "execute_result"
    }
   ],
   "source": [
    "Datos[['zona', 'zona_cat']].dtypes"
   ]
  },
  {
   "cell_type": "markdown",
   "metadata": {},
   "source": [
    "### Y, para ir de etiquetas a números:"
   ]
  },
  {
   "cell_type": "code",
   "execution_count": 27,
   "metadata": {},
   "outputs": [],
   "source": [
    "Datos['zona_num'] = Datos['zona_cat'].astype('category').cat.codes\n",
    "Datos['zona_num']= Datos['zona_num'].astype('category')"
   ]
  },
  {
   "cell_type": "code",
   "execution_count": 28,
   "metadata": {},
   "outputs": [
    {
     "data": {
      "text/html": [
       "<div>\n",
       "<style scoped>\n",
       "    .dataframe tbody tr th:only-of-type {\n",
       "        vertical-align: middle;\n",
       "    }\n",
       "\n",
       "    .dataframe tbody tr th {\n",
       "        vertical-align: top;\n",
       "    }\n",
       "\n",
       "    .dataframe thead th {\n",
       "        text-align: right;\n",
       "    }\n",
       "</style>\n",
       "<table border=\"1\" class=\"dataframe\">\n",
       "  <thead>\n",
       "    <tr style=\"text-align: right;\">\n",
       "      <th></th>\n",
       "      <th>zona</th>\n",
       "      <th>zona_cat</th>\n",
       "      <th>zona_num</th>\n",
       "    </tr>\n",
       "  </thead>\n",
       "  <tbody>\n",
       "    <tr>\n",
       "      <th>0</th>\n",
       "      <td>0</td>\n",
       "      <td>Rural</td>\n",
       "      <td>0</td>\n",
       "    </tr>\n",
       "    <tr>\n",
       "      <th>1</th>\n",
       "      <td>0</td>\n",
       "      <td>Rural</td>\n",
       "      <td>0</td>\n",
       "    </tr>\n",
       "    <tr>\n",
       "      <th>2</th>\n",
       "      <td>0</td>\n",
       "      <td>Rural</td>\n",
       "      <td>0</td>\n",
       "    </tr>\n",
       "    <tr>\n",
       "      <th>3</th>\n",
       "      <td>0</td>\n",
       "      <td>Rural</td>\n",
       "      <td>0</td>\n",
       "    </tr>\n",
       "    <tr>\n",
       "      <th>4</th>\n",
       "      <td>0</td>\n",
       "      <td>Rural</td>\n",
       "      <td>0</td>\n",
       "    </tr>\n",
       "    <tr>\n",
       "      <th>...</th>\n",
       "      <td>...</td>\n",
       "      <td>...</td>\n",
       "      <td>...</td>\n",
       "    </tr>\n",
       "    <tr>\n",
       "      <th>16596</th>\n",
       "      <td>1</td>\n",
       "      <td>Urbano</td>\n",
       "      <td>1</td>\n",
       "    </tr>\n",
       "    <tr>\n",
       "      <th>16597</th>\n",
       "      <td>1</td>\n",
       "      <td>Urbano</td>\n",
       "      <td>1</td>\n",
       "    </tr>\n",
       "    <tr>\n",
       "      <th>16598</th>\n",
       "      <td>1</td>\n",
       "      <td>Urbano</td>\n",
       "      <td>1</td>\n",
       "    </tr>\n",
       "    <tr>\n",
       "      <th>16599</th>\n",
       "      <td>1</td>\n",
       "      <td>Urbano</td>\n",
       "      <td>1</td>\n",
       "    </tr>\n",
       "    <tr>\n",
       "      <th>16600</th>\n",
       "      <td>1</td>\n",
       "      <td>Urbano</td>\n",
       "      <td>1</td>\n",
       "    </tr>\n",
       "  </tbody>\n",
       "</table>\n",
       "<p>33016 rows × 3 columns</p>\n",
       "</div>"
      ],
      "text/plain": [
       "      zona zona_cat zona_num\n",
       "0        0    Rural        0\n",
       "1        0    Rural        0\n",
       "2        0    Rural        0\n",
       "3        0    Rural        0\n",
       "4        0    Rural        0\n",
       "...    ...      ...      ...\n",
       "16596    1   Urbano        1\n",
       "16597    1   Urbano        1\n",
       "16598    1   Urbano        1\n",
       "16599    1   Urbano        1\n",
       "16600    1   Urbano        1\n",
       "\n",
       "[33016 rows x 3 columns]"
      ]
     },
     "execution_count": 28,
     "metadata": {},
     "output_type": "execute_result"
    }
   ],
   "source": [
    "Datos[['zona', 'zona_cat', 'zona_num']]"
   ]
  },
  {
   "cell_type": "code",
   "execution_count": 29,
   "metadata": {},
   "outputs": [
    {
     "data": {
      "text/plain": [
       "zona        category\n",
       "zona_cat    category\n",
       "zona_num    category\n",
       "dtype: object"
      ]
     },
     "execution_count": 29,
     "metadata": {},
     "output_type": "execute_result"
    }
   ],
   "source": [
    "Datos[['zona', 'zona_cat', 'zona_num']].dtypes"
   ]
  },
  {
   "cell_type": "markdown",
   "metadata": {},
   "source": [
    "### Respecto a categóricas siguentes"
   ]
  },
  {
   "cell_type": "code",
   "execution_count": 32,
   "metadata": {},
   "outputs": [],
   "source": [
    "# TODO Defina una lista llamada \"columnas\" que incluya las columnas \n",
    "# 'ha_fumado', 'come_paquete', 'come_fritos', 'hijos_vivos'\n",
    "columnas = ['ha_fumado', 'come_paquete', 'come_fritos', 'hijos_vivos']"
   ]
  },
  {
   "cell_type": "code",
   "execution_count": 33,
   "metadata": {},
   "outputs": [
    {
     "name": "stdout",
     "output_type": "stream",
     "text": [
      "No    7629\n",
      "Sí    5523\n",
      "Name: ha_fumado, dtype: int64\n",
      "missing 19864\n",
      "\n",
      "No    9989\n",
      "Sí    3163\n",
      "Name: come_paquete, dtype: int64\n",
      "missing 19864\n",
      "\n",
      "Sí    10367\n",
      "No     2785\n",
      "Name: come_fritos, dtype: int64\n",
      "missing 19864\n",
      "\n",
      "Sí    5514\n",
      "No    2944\n",
      "Name: hijos_vivos, dtype: int64\n",
      "missing 24558\n",
      "\n"
     ]
    }
   ],
   "source": [
    "for col in columnas:\n",
    "    print(Datos[col].value_counts())\n",
    "    print('missing', Datos[col].isna().sum())\n",
    "    print()"
   ]
  },
  {
   "cell_type": "markdown",
   "metadata": {},
   "source": [
    "### Recodificamos Sí a 1, No a 0"
   ]
  },
  {
   "cell_type": "code",
   "execution_count": 34,
   "metadata": {},
   "outputs": [
    {
     "name": "stdout",
     "output_type": "stream",
     "text": [
      "{0: 'Sí', 1: 'No'}\n",
      "{0: 'Sí', 1: 'No'}\n",
      "{0: 'Sí', 1: 'No'}\n",
      "{0: 'Sí', 1: 'No'}\n"
     ]
    }
   ],
   "source": [
    "for col in columnas:\n",
    "    label_temp = dict(enumerate(Datos[col].cat.categories))\n",
    "    print(label_temp)"
   ]
  },
  {
   "cell_type": "markdown",
   "metadata": {},
   "source": [
    "### Las convertimos en números"
   ]
  },
  {
   "cell_type": "code",
   "execution_count": 35,
   "metadata": {},
   "outputs": [],
   "source": [
    "for col in columnas:\n",
    "    Datos[col] = Datos[col].astype('category').cat.codes"
   ]
  },
  {
   "cell_type": "code",
   "execution_count": 36,
   "metadata": {},
   "outputs": [
    {
     "name": "stdout",
     "output_type": "stream",
     "text": [
      "-1    19864\n",
      " 1     7629\n",
      " 0     5523\n",
      "Name: ha_fumado, dtype: int64\n",
      "missing 0\n",
      "\n",
      "-1    19864\n",
      " 1     9989\n",
      " 0     3163\n",
      "Name: come_paquete, dtype: int64\n",
      "missing 0\n",
      "\n",
      "-1    19864\n",
      " 0    10367\n",
      " 1     2785\n",
      "Name: come_fritos, dtype: int64\n",
      "missing 0\n",
      "\n",
      "-1    24558\n",
      " 0     5514\n",
      " 1     2944\n",
      "Name: hijos_vivos, dtype: int64\n",
      "missing 0\n",
      "\n"
     ]
    }
   ],
   "source": [
    "for col in columnas:\n",
    "    print(Datos[col].value_counts())\n",
    "    print('missing', Datos[col].isna().sum())\n",
    "    print()"
   ]
  },
  {
   "cell_type": "markdown",
   "metadata": {},
   "source": [
    "**Convirtió:** No en 1, Sí en 0, y NaN en -1"
   ]
  },
  {
   "cell_type": "code",
   "execution_count": null,
   "metadata": {},
   "outputs": [],
   "source": [
    "for col in columnas:\n",
    "    sel = (Datos[col]==1)\n",
    "    Datos.loc[sel, col] = 2\n",
    "    \n",
    "    sel = (Datos[col]==0)\n",
    "    Datos.loc[sel, col] = 1\n",
    "    \n",
    "    # TODO a cada columna que tenga el valor 2, de vuelta a 0 (igual que aquí arriba)\n",
    "    \n",
    "    \n",
    "    sel = (Datos[col]==-1)\n",
    "    Datos.loc[sel, col] = np.NaN"
   ]
  },
  {
   "cell_type": "code",
   "execution_count": null,
   "metadata": {},
   "outputs": [],
   "source": [
    "for col in columnas:\n",
    "    print(Datos[col].value_counts())\n",
    "    print('missing', Datos[col].isna().sum())\n",
    "    print()"
   ]
  },
  {
   "cell_type": "markdown",
   "metadata": {},
   "source": [
    "### Ya solo sería mapearlo según una etiqueta para 0 y 1 como está en las siguientes dos celdas"
   ]
  },
  {
   "cell_type": "markdown",
   "metadata": {},
   "source": [
    "### PERO: no vamos a hacerlo porque vamos a usar los valores numéricos después"
   ]
  },
  {
   "cell_type": "code",
   "execution_count": null,
   "metadata": {},
   "outputs": [],
   "source": [
    "# No ejecutar\n",
    "label_booleano = {0: 'No', 1: 'Sí'}\n",
    "for col in columnas:\n",
    "    Datos[col] = Datos[col].map(label_booleano)\n",
    "    Datos[col] = Datos[col].astype('category')"
   ]
  },
  {
   "cell_type": "code",
   "execution_count": null,
   "metadata": {},
   "outputs": [],
   "source": [
    "# No ejecutar\n",
    "Datos[columnas]"
   ]
  },
  {
   "cell_type": "markdown",
   "metadata": {},
   "source": [
    "### Y para mujer:"
   ]
  },
  {
   "cell_type": "code",
   "execution_count": null,
   "metadata": {},
   "outputs": [],
   "source": [
    "Datos['mujer'].value_counts()"
   ]
  },
  {
   "cell_type": "code",
   "execution_count": null,
   "metadata": {},
   "outputs": [],
   "source": [
    "Datos['mujer'].isna().sum()"
   ]
  },
  {
   "cell_type": "markdown",
   "metadata": {},
   "source": [
    "### Renombramos mujer"
   ]
  },
  {
   "cell_type": "code",
   "execution_count": null,
   "metadata": {},
   "outputs": [],
   "source": [
    "# Una columna de verdaderos y falsos donde se cumple la condición: es igual a 'Mujer'\n",
    "seleccionDeFilas = (Datos['mujer'] == 'Mujer')\n",
    "Datos.loc[seleccionDeFilas, 'mujer'] = 'Sí'"
   ]
  },
  {
   "cell_type": "code",
   "execution_count": null,
   "metadata": {},
   "outputs": [],
   "source": [
    "# Una columna de verdaderos y falsos donde se cumple la condición: es igual a 'MUJER'\n",
    "seleccionDeFilas = (Datos['mujer'] == 'MUJER')\n",
    "Datos.loc[seleccionDeFilas, 'mujer'] = 'Sí'"
   ]
  },
  {
   "cell_type": "code",
   "execution_count": null,
   "metadata": {},
   "outputs": [],
   "source": [
    "# Una columna de verdaderos y falsos donde se cumple la condición: es igual a 'Hombre'\n",
    "seleccionDeFilas = (Datos['mujer'] == 'Hombre')\n",
    "Datos.loc[seleccionDeFilas, 'mujer'] = 'No'"
   ]
  },
  {
   "cell_type": "code",
   "execution_count": null,
   "metadata": {},
   "outputs": [],
   "source": [
    "# Una columna de verdaderos y falsos donde se cumple la condición: es igual a 'HOMBRE'\n",
    "seleccionDeFilas = (Datos['mujer'] == 'HOMBRE')\n",
    "Datos.loc[seleccionDeFilas, 'mujer'] = 'No'"
   ]
  },
  {
   "cell_type": "code",
   "execution_count": null,
   "metadata": {},
   "outputs": [],
   "source": [
    "Datos['mujer'].value_counts()"
   ]
  },
  {
   "cell_type": "code",
   "execution_count": null,
   "metadata": {},
   "outputs": [],
   "source": [
    "Datos[\"mujer\"] = Datos[\"mujer\"].astype('category')\n",
    "Datos.dtypes"
   ]
  },
  {
   "cell_type": "markdown",
   "metadata": {},
   "source": [
    "***\n",
    "¿Suman las mujeres y hombres iniciales lo mismo que el total después de renombrar?\n",
    "***"
   ]
  },
  {
   "cell_type": "code",
   "execution_count": null,
   "metadata": {},
   "outputs": [],
   "source": [
    "(8737 + 7981 == 16718) & (8434 + 7864 == 16298)"
   ]
  },
  {
   "cell_type": "markdown",
   "metadata": {},
   "source": [
    "## 3. Estadísticas descriptivas"
   ]
  },
  {
   "cell_type": "markdown",
   "metadata": {},
   "source": [
    "### Tablas"
   ]
  },
  {
   "cell_type": "code",
   "execution_count": 30,
   "metadata": {},
   "outputs": [
    {
     "data": {
      "text/plain": [
       "hospital_veces     1.553782\n",
       "edad              32.966531\n",
       "sp_estrato         1.673401\n",
       "t_personas         4.968137\n",
       "tercil2016         1.997607\n",
       "dias_noasistio     3.613828\n",
       "dtype: float64"
      ]
     },
     "execution_count": 30,
     "metadata": {},
     "output_type": "execute_result"
    }
   ],
   "source": [
    "Datos.mean()"
   ]
  },
  {
   "cell_type": "code",
   "execution_count": 31,
   "metadata": {},
   "outputs": [
    {
     "data": {
      "text/plain": [
       "hospital_veces     1.517509\n",
       "edad              21.493230\n",
       "sp_estrato         0.767255\n",
       "t_personas         2.654138\n",
       "tercil2016         0.817624\n",
       "dias_noasistio     6.933556\n",
       "dtype: float64"
      ]
     },
     "execution_count": 31,
     "metadata": {},
     "output_type": "execute_result"
    }
   ],
   "source": [
    "Datos.std()"
   ]
  },
  {
   "cell_type": "code",
   "execution_count": null,
   "metadata": {},
   "outputs": [],
   "source": [
    "Datos.min()"
   ]
  },
  {
   "cell_type": "code",
   "execution_count": null,
   "metadata": {},
   "outputs": [],
   "source": [
    "Datos.max()"
   ]
  },
  {
   "cell_type": "code",
   "execution_count": null,
   "metadata": {},
   "outputs": [],
   "source": [
    "print('Número de observaciones (no missing):')\n",
    "for col in Datos:\n",
    "    print(col,'   ', Datos[col].notna().sum() )\n"
   ]
  },
  {
   "cell_type": "markdown",
   "metadata": {},
   "source": [
    "### Tablas de frecuencias"
   ]
  },
  {
   "cell_type": "code",
   "execution_count": null,
   "metadata": {},
   "outputs": [],
   "source": [
    "for col in Datos:\n",
    "    print()\n",
    "    print('COLUMNA:', col)\n",
    "    print()\n",
    "    print(Datos[col].value_counts())\n"
   ]
  },
  {
   "cell_type": "markdown",
   "metadata": {},
   "source": [
    "### Gráficos: barras 1"
   ]
  },
  {
   "cell_type": "code",
   "execution_count": null,
   "metadata": {},
   "outputs": [],
   "source": [
    "# Definimos un grupo por los valores de hoy_fuma primero\n",
    "x1 = Datos.groupby('hoy_fuma').mean().reset_index()\n",
    "x1"
   ]
  },
  {
   "cell_type": "code",
   "execution_count": null,
   "metadata": {},
   "outputs": [],
   "source": [
    "# Graficamos con variable vertical los números de 0 hasta cuantos grupos haya,\n",
    "## cruzado con el valor de (el promedio de) edad en cada grupo \n",
    "plt.bar(range(len(x1)), x1['edad'])\n",
    "## Configuraciones gráficas: las etiquetas del eje horizontal y vertical\n",
    "plt.xticks(range(len(x1)), x1['hoy_fuma'])\n",
    "plt.ylabel('Promedio de edad')"
   ]
  },
  {
   "cell_type": "markdown",
   "metadata": {},
   "source": [
    "### Gráficos: barras 2"
   ]
  },
  {
   "cell_type": "code",
   "execution_count": null,
   "metadata": {},
   "outputs": [],
   "source": [
    "# Graficamos con variable vertical los números de 0 hasta cuantos grupos haya,\n",
    "## cruzado con el valor de (el promedio de) días que no asistió en cada grupo \n",
    "plt.bar(range(len(x1)), x1['dias_noasistio'])\n",
    "## Configuraciones gráficas: las etiquetas del eje horizontal y vertical\n",
    "plt.xticks(range(len(x1)), x1['hoy_fuma'])\n",
    "plt.ylabel('Promedio de días')"
   ]
  },
  {
   "cell_type": "markdown",
   "metadata": {},
   "source": [
    "### Gráficos: boxplot"
   ]
  },
  {
   "cell_type": "code",
   "execution_count": null,
   "metadata": {},
   "outputs": [],
   "source": [
    "plt.boxplot(Datos['t_personas'])"
   ]
  },
  {
   "cell_type": "markdown",
   "metadata": {},
   "source": [
    "## 4. Regresión"
   ]
  },
  {
   "cell_type": "markdown",
   "metadata": {},
   "source": [
    "### Correlación"
   ]
  },
  {
   "cell_type": "code",
   "execution_count": null,
   "metadata": {},
   "outputs": [],
   "source": [
    "columnas=['dias_noasistio', 'ha_fumado', 'tercil2016', 'edad', 'mujer', 't_personas']\n",
    "Datos[columnas].corr()"
   ]
  },
  {
   "cell_type": "markdown",
   "metadata": {},
   "source": [
    "### Regresión"
   ]
  },
  {
   "cell_type": "markdown",
   "metadata": {},
   "source": [
    "La columna tercil2016 tiene los siguientes valores:"
   ]
  },
  {
   "cell_type": "code",
   "execution_count": null,
   "metadata": {},
   "outputs": [],
   "source": [
    "# TODO contar cuántos registros tiene cada uno de los valores de tercil2016"
   ]
  },
  {
   "cell_type": "markdown",
   "metadata": {},
   "source": [
    "**Vamos a crear tres columnas que indiquen si la observación presenta o no cada valor con 1 o 0**"
   ]
  },
  {
   "cell_type": "code",
   "execution_count": null,
   "metadata": {},
   "outputs": [],
   "source": [
    "Datos['tercil20161']=np.NaN\n",
    "sel = Datos['tercil2016'] == 1\n",
    "Datos.loc[sel, 'tercil20161'] = 1\n",
    "\n",
    "sel = Datos['tercil2016'] == 2\n",
    "Datos.loc[sel, 'tercil20161'] = 0\n",
    "\n",
    "sel = Datos['tercil2016'] == 3\n",
    "Datos.loc[sel, 'tercil20161'] = 0"
   ]
  },
  {
   "cell_type": "code",
   "execution_count": null,
   "metadata": {},
   "outputs": [],
   "source": [
    "Datos['tercil20162']=np.NaN\n",
    "sel = Datos['tercil2016'] == 2\n",
    "Datos.loc[sel, 'tercil20162'] = 1\n",
    "\n",
    "sel = Datos['tercil2016'] == 1\n",
    "Datos.loc[sel, 'tercil20162'] = 0\n",
    "\n",
    "sel = Datos['tercil2016'] == 3\n",
    "Datos.loc[sel, 'tercil20162'] = 0"
   ]
  },
  {
   "cell_type": "code",
   "execution_count": null,
   "metadata": {},
   "outputs": [],
   "source": [
    "Datos['tercil20163']=np.NaN\n",
    "sel = Datos['tercil2016'] == 3\n",
    "Datos.loc[sel, 'tercil20163'] = 1\n",
    "\n",
    "sel = Datos['tercil2016'] == 2\n",
    "Datos.loc[sel, 'tercil20163'] = 0\n",
    "\n",
    "sel = Datos['tercil2016'] == 1\n",
    "Datos.loc[sel, 'tercil20163'] = 0"
   ]
  },
  {
   "cell_type": "code",
   "execution_count": null,
   "metadata": {},
   "outputs": [],
   "source": [
    "col=['tercil2016','tercil20161','tercil20162','tercil20163']\n",
    "Datos[col]"
   ]
  },
  {
   "cell_type": "code",
   "execution_count": null,
   "metadata": {},
   "outputs": [],
   "source": [
    "for var in col:\n",
    "    Datos[var] = Datos[var].astype('int16')"
   ]
  },
  {
   "cell_type": "markdown",
   "metadata": {},
   "source": [
    "### El modelo"
   ]
  },
  {
   "cell_type": "code",
   "execution_count": null,
   "metadata": {},
   "outputs": [],
   "source": [
    "mod = sm.OLS.from_formula('dias_noasistio ~ 1 + ha_fumado + tercil20161 + tercil20162 + tercil20163 + edad + mujer + t_personas', data=Datos)\n",
    "res = mod.fit()\n",
    "print(res.summary())"
   ]
  }
 ],
 "metadata": {
  "kernelspec": {
   "display_name": "Python 3",
   "language": "python",
   "name": "python3"
  },
  "language_info": {
   "codemirror_mode": {
    "name": "ipython",
    "version": 3
   },
   "file_extension": ".py",
   "mimetype": "text/x-python",
   "name": "python",
   "nbconvert_exporter": "python",
   "pygments_lexer": "ipython3",
   "version": "3.8.5"
  }
 },
 "nbformat": 4,
 "nbformat_minor": 4
}
